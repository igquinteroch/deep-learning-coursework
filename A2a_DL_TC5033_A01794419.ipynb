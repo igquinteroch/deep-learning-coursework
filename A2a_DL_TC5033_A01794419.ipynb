{
  "cells": [
    {
      "cell_type": "markdown",
      "metadata": {
        "id": "view-in-github",
        "colab_type": "text"
      },
      "source": [
        "<a href=\"https://colab.research.google.com/github/igquinteroch/deep-learning-coursework/blob/main/A2a_DL_TC5033_A01794419.ipynb\" target=\"_parent\"><img src=\"https://colab.research.google.com/assets/colab-badge.svg\" alt=\"Open In Colab\"/></a>"
      ]
    },
    {
      "cell_type": "markdown",
      "id": "601b2309",
      "metadata": {
        "id": "601b2309"
      },
      "source": [
        "# TC 5033\n",
        "## Deep Learning\n",
        "## Fully Connected Deep Neural Networks using PyTorch\n",
        "<br>\n",
        "\n",
        "#### Activity 2a: Implementing a FC for ASL Dataset using PyTorch\n",
        "<br>\n",
        "\n",
        "\n",
        "## Objective\n",
        "\n",
        "The primary aim of this activity is to transition from using NumPy for network implementation to utilizing PyTorch, a powerful deep learning framework.\n",
        "\n",
        "You will be replicating the work you did for the ASL dataset in Activity 1b, but this time, you'll implement a your multi layer FC model using PyTorch.\n",
        "    \n",
        "## Instructions\n",
        "\n",
        "Review Previous Work: Begin by reviewing your Numpy-based Fully Connected Network for the ASL dataset from Activity 1b. Note the architecture, hyperparameters, and performance metrics for comparison.\n",
        "\n",
        "\n",
        "Introduce PyTorch: If you're new to PyTorch, take some time to familiarize yourself with its basic operations and syntax. You can consult the official documentation or follow online tutorials.\n",
        "\n",
        "Prepare the ASL Dataset: As before, download and preprocess the Kaggle ASL dataset.\n",
        "\n",
        "Implement the Network: Design your network architecture tailored for the ASL dataset. Pay special attention to PyTorch modules like `nn.Linear()` and `nn.ReLU()`.\n",
        "\n",
        "\n",
        "Train the Model: Implement the training loop, making use of PyTorch's autograd to handle backpropagation. Monitor metrics like loss and accuracy as the model trains.\n",
        "\n",
        "\n",
        "Analyze and Document: In Markdown cells, discuss the architecture choices, any differences in performance between the Numpy and PyTorch implementations, and insights gained from using a deep learning framework like PyTorch."
      ]
    },
    {
      "cell_type": "markdown",
      "source": [
        "### Import the libraries and set the stage\n",
        "\n",
        "* `numpy`: Performs mathematical operations on large arrays or matrices.\n",
        "* `string`: Provides utilities for string processing.\n",
        "* `pandas`: Used for data manipulation.\n",
        "* `os`: Allows interaction with the OS - e.g., directory navigation.\n",
        "* `matplotlib.pyplot`: Used for plotting data.\n",
        "\n",
        "**PyTorch**\n",
        "\n",
        "* `torch`: Fundamental PyTorch library.\n",
        "* `torch.nn`: The module `torch.nn` contains classes and functions for building neural networks.\n",
        "* `torch.nn.functional`: Imports the `torch.nn` module, which contains functions that operate on tensors."
      ],
      "metadata": {
        "id": "HwMe9C-KJLs7"
      },
      "id": "HwMe9C-KJLs7"
    },
    {
      "cell_type": "code",
      "execution_count": 1,
      "id": "183db241",
      "metadata": {
        "id": "183db241",
        "colab": {
          "base_uri": "https://localhost:8080/"
        },
        "outputId": "e0739ea2-e134-4a15-f06d-be0f154255c8"
      },
      "outputs": [
        {
          "output_type": "stream",
          "name": "stdout",
          "text": [
            "Mounted at /content/drive\n"
          ]
        }
      ],
      "source": [
        "import numpy as np\n",
        "import string\n",
        "import pandas as pd\n",
        "import matplotlib.pyplot as plt\n",
        "import os\n",
        "%matplotlib inline\n",
        "\n",
        "# Provides access to the Drive from within the notebook\n",
        "from google.colab import drive\n",
        "\n",
        "# Mounts the Drive into the Colab environment\n",
        "drive.mount(\"/content/drive\")\n",
        "\n",
        "# Changes the current working directory to the specified path in Google Drive.\n",
        "os.chdir(\"/content/drive/MyDrive/TC5033.10\")\n",
        "\n",
        "#PyTorch stuff\n",
        "import torch\n",
        "import torch.nn as nn\n",
        "import torch.nn.functional as F"
      ]
    },
    {
      "cell_type": "code",
      "execution_count": 2,
      "id": "b3896ddf",
      "metadata": {
        "id": "b3896ddf"
      },
      "outputs": [],
      "source": [
        "DATA_PATH = \"/content/drive/MyDrive/TC5033.10/asl_data\"\n",
        "\n",
        "# os.path.join() basically combines the DATA_PATH with the filename to create a full path to the file\n",
        "train_df = pd.read_csv(os.path.join(DATA_PATH, 'sign_mnist_train.csv'))\n",
        "valid_df = pd.read_csv(os.path.join(DATA_PATH, 'sign_mnist_valid.csv'))"
      ]
    },
    {
      "cell_type": "markdown",
      "id": "08fa938e",
      "metadata": {
        "id": "08fa938e"
      },
      "source": [
        "### Always a good idea to explore the data"
      ]
    },
    {
      "cell_type": "code",
      "execution_count": 3,
      "id": "c149b4d7",
      "metadata": {
        "id": "c149b4d7",
        "colab": {
          "base_uri": "https://localhost:8080/",
          "height": 236
        },
        "outputId": "f1b639c0-6fc5-4972-89e4-4bf71032ca73"
      },
      "outputs": [
        {
          "output_type": "execute_result",
          "data": {
            "text/plain": [
              "   label  pixel1  pixel2  pixel3  pixel4  pixel5  pixel6  pixel7  pixel8  \\\n",
              "0      3     107     118     127     134     139     143     146     150   \n",
              "1      6     155     157     156     156     156     157     156     158   \n",
              "2      2     187     188     188     187     187     186     187     188   \n",
              "3      2     211     211     212     212     211     210     211     210   \n",
              "4     12     164     167     170     172     176     179     180     184   \n",
              "\n",
              "   pixel9  ...  pixel775  pixel776  pixel777  pixel778  pixel779  pixel780  \\\n",
              "0     153  ...       207       207       207       207       206       206   \n",
              "1     158  ...        69       149       128        87        94       163   \n",
              "2     187  ...       202       201       200       199       198       199   \n",
              "3     210  ...       235       234       233       231       230       226   \n",
              "4     185  ...        92       105       105       108       133       163   \n",
              "\n",
              "   pixel781  pixel782  pixel783  pixel784  \n",
              "0       206       204       203       202  \n",
              "1       175       103       135       149  \n",
              "2       198       195       194       195  \n",
              "3       225       222       229       163  \n",
              "4       157       163       164       179  \n",
              "\n",
              "[5 rows x 785 columns]"
            ],
            "text/html": [
              "\n",
              "  <div id=\"df-618c12ac-d41a-455c-baa1-cc2e1b5300d0\" class=\"colab-df-container\">\n",
              "    <div>\n",
              "<style scoped>\n",
              "    .dataframe tbody tr th:only-of-type {\n",
              "        vertical-align: middle;\n",
              "    }\n",
              "\n",
              "    .dataframe tbody tr th {\n",
              "        vertical-align: top;\n",
              "    }\n",
              "\n",
              "    .dataframe thead th {\n",
              "        text-align: right;\n",
              "    }\n",
              "</style>\n",
              "<table border=\"1\" class=\"dataframe\">\n",
              "  <thead>\n",
              "    <tr style=\"text-align: right;\">\n",
              "      <th></th>\n",
              "      <th>label</th>\n",
              "      <th>pixel1</th>\n",
              "      <th>pixel2</th>\n",
              "      <th>pixel3</th>\n",
              "      <th>pixel4</th>\n",
              "      <th>pixel5</th>\n",
              "      <th>pixel6</th>\n",
              "      <th>pixel7</th>\n",
              "      <th>pixel8</th>\n",
              "      <th>pixel9</th>\n",
              "      <th>...</th>\n",
              "      <th>pixel775</th>\n",
              "      <th>pixel776</th>\n",
              "      <th>pixel777</th>\n",
              "      <th>pixel778</th>\n",
              "      <th>pixel779</th>\n",
              "      <th>pixel780</th>\n",
              "      <th>pixel781</th>\n",
              "      <th>pixel782</th>\n",
              "      <th>pixel783</th>\n",
              "      <th>pixel784</th>\n",
              "    </tr>\n",
              "  </thead>\n",
              "  <tbody>\n",
              "    <tr>\n",
              "      <th>0</th>\n",
              "      <td>3</td>\n",
              "      <td>107</td>\n",
              "      <td>118</td>\n",
              "      <td>127</td>\n",
              "      <td>134</td>\n",
              "      <td>139</td>\n",
              "      <td>143</td>\n",
              "      <td>146</td>\n",
              "      <td>150</td>\n",
              "      <td>153</td>\n",
              "      <td>...</td>\n",
              "      <td>207</td>\n",
              "      <td>207</td>\n",
              "      <td>207</td>\n",
              "      <td>207</td>\n",
              "      <td>206</td>\n",
              "      <td>206</td>\n",
              "      <td>206</td>\n",
              "      <td>204</td>\n",
              "      <td>203</td>\n",
              "      <td>202</td>\n",
              "    </tr>\n",
              "    <tr>\n",
              "      <th>1</th>\n",
              "      <td>6</td>\n",
              "      <td>155</td>\n",
              "      <td>157</td>\n",
              "      <td>156</td>\n",
              "      <td>156</td>\n",
              "      <td>156</td>\n",
              "      <td>157</td>\n",
              "      <td>156</td>\n",
              "      <td>158</td>\n",
              "      <td>158</td>\n",
              "      <td>...</td>\n",
              "      <td>69</td>\n",
              "      <td>149</td>\n",
              "      <td>128</td>\n",
              "      <td>87</td>\n",
              "      <td>94</td>\n",
              "      <td>163</td>\n",
              "      <td>175</td>\n",
              "      <td>103</td>\n",
              "      <td>135</td>\n",
              "      <td>149</td>\n",
              "    </tr>\n",
              "    <tr>\n",
              "      <th>2</th>\n",
              "      <td>2</td>\n",
              "      <td>187</td>\n",
              "      <td>188</td>\n",
              "      <td>188</td>\n",
              "      <td>187</td>\n",
              "      <td>187</td>\n",
              "      <td>186</td>\n",
              "      <td>187</td>\n",
              "      <td>188</td>\n",
              "      <td>187</td>\n",
              "      <td>...</td>\n",
              "      <td>202</td>\n",
              "      <td>201</td>\n",
              "      <td>200</td>\n",
              "      <td>199</td>\n",
              "      <td>198</td>\n",
              "      <td>199</td>\n",
              "      <td>198</td>\n",
              "      <td>195</td>\n",
              "      <td>194</td>\n",
              "      <td>195</td>\n",
              "    </tr>\n",
              "    <tr>\n",
              "      <th>3</th>\n",
              "      <td>2</td>\n",
              "      <td>211</td>\n",
              "      <td>211</td>\n",
              "      <td>212</td>\n",
              "      <td>212</td>\n",
              "      <td>211</td>\n",
              "      <td>210</td>\n",
              "      <td>211</td>\n",
              "      <td>210</td>\n",
              "      <td>210</td>\n",
              "      <td>...</td>\n",
              "      <td>235</td>\n",
              "      <td>234</td>\n",
              "      <td>233</td>\n",
              "      <td>231</td>\n",
              "      <td>230</td>\n",
              "      <td>226</td>\n",
              "      <td>225</td>\n",
              "      <td>222</td>\n",
              "      <td>229</td>\n",
              "      <td>163</td>\n",
              "    </tr>\n",
              "    <tr>\n",
              "      <th>4</th>\n",
              "      <td>12</td>\n",
              "      <td>164</td>\n",
              "      <td>167</td>\n",
              "      <td>170</td>\n",
              "      <td>172</td>\n",
              "      <td>176</td>\n",
              "      <td>179</td>\n",
              "      <td>180</td>\n",
              "      <td>184</td>\n",
              "      <td>185</td>\n",
              "      <td>...</td>\n",
              "      <td>92</td>\n",
              "      <td>105</td>\n",
              "      <td>105</td>\n",
              "      <td>108</td>\n",
              "      <td>133</td>\n",
              "      <td>163</td>\n",
              "      <td>157</td>\n",
              "      <td>163</td>\n",
              "      <td>164</td>\n",
              "      <td>179</td>\n",
              "    </tr>\n",
              "  </tbody>\n",
              "</table>\n",
              "<p>5 rows × 785 columns</p>\n",
              "</div>\n",
              "    <div class=\"colab-df-buttons\">\n",
              "\n",
              "  <div class=\"colab-df-container\">\n",
              "    <button class=\"colab-df-convert\" onclick=\"convertToInteractive('df-618c12ac-d41a-455c-baa1-cc2e1b5300d0')\"\n",
              "            title=\"Convert this dataframe to an interactive table.\"\n",
              "            style=\"display:none;\">\n",
              "\n",
              "  <svg xmlns=\"http://www.w3.org/2000/svg\" height=\"24px\" viewBox=\"0 -960 960 960\">\n",
              "    <path d=\"M120-120v-720h720v720H120Zm60-500h600v-160H180v160Zm220 220h160v-160H400v160Zm0 220h160v-160H400v160ZM180-400h160v-160H180v160Zm440 0h160v-160H620v160ZM180-180h160v-160H180v160Zm440 0h160v-160H620v160Z\"/>\n",
              "  </svg>\n",
              "    </button>\n",
              "\n",
              "  <style>\n",
              "    .colab-df-container {\n",
              "      display:flex;\n",
              "      gap: 12px;\n",
              "    }\n",
              "\n",
              "    .colab-df-convert {\n",
              "      background-color: #E8F0FE;\n",
              "      border: none;\n",
              "      border-radius: 50%;\n",
              "      cursor: pointer;\n",
              "      display: none;\n",
              "      fill: #1967D2;\n",
              "      height: 32px;\n",
              "      padding: 0 0 0 0;\n",
              "      width: 32px;\n",
              "    }\n",
              "\n",
              "    .colab-df-convert:hover {\n",
              "      background-color: #E2EBFA;\n",
              "      box-shadow: 0px 1px 2px rgba(60, 64, 67, 0.3), 0px 1px 3px 1px rgba(60, 64, 67, 0.15);\n",
              "      fill: #174EA6;\n",
              "    }\n",
              "\n",
              "    .colab-df-buttons div {\n",
              "      margin-bottom: 4px;\n",
              "    }\n",
              "\n",
              "    [theme=dark] .colab-df-convert {\n",
              "      background-color: #3B4455;\n",
              "      fill: #D2E3FC;\n",
              "    }\n",
              "\n",
              "    [theme=dark] .colab-df-convert:hover {\n",
              "      background-color: #434B5C;\n",
              "      box-shadow: 0px 1px 3px 1px rgba(0, 0, 0, 0.15);\n",
              "      filter: drop-shadow(0px 1px 2px rgba(0, 0, 0, 0.3));\n",
              "      fill: #FFFFFF;\n",
              "    }\n",
              "  </style>\n",
              "\n",
              "    <script>\n",
              "      const buttonEl =\n",
              "        document.querySelector('#df-618c12ac-d41a-455c-baa1-cc2e1b5300d0 button.colab-df-convert');\n",
              "      buttonEl.style.display =\n",
              "        google.colab.kernel.accessAllowed ? 'block' : 'none';\n",
              "\n",
              "      async function convertToInteractive(key) {\n",
              "        const element = document.querySelector('#df-618c12ac-d41a-455c-baa1-cc2e1b5300d0');\n",
              "        const dataTable =\n",
              "          await google.colab.kernel.invokeFunction('convertToInteractive',\n",
              "                                                    [key], {});\n",
              "        if (!dataTable) return;\n",
              "\n",
              "        const docLinkHtml = 'Like what you see? Visit the ' +\n",
              "          '<a target=\"_blank\" href=https://colab.research.google.com/notebooks/data_table.ipynb>data table notebook</a>'\n",
              "          + ' to learn more about interactive tables.';\n",
              "        element.innerHTML = '';\n",
              "        dataTable['output_type'] = 'display_data';\n",
              "        await google.colab.output.renderOutput(dataTable, element);\n",
              "        const docLink = document.createElement('div');\n",
              "        docLink.innerHTML = docLinkHtml;\n",
              "        element.appendChild(docLink);\n",
              "      }\n",
              "    </script>\n",
              "  </div>\n",
              "\n",
              "\n",
              "<div id=\"df-cde71207-2f32-4a35-84d9-fcc0a60e54ad\">\n",
              "  <button class=\"colab-df-quickchart\" onclick=\"quickchart('df-cde71207-2f32-4a35-84d9-fcc0a60e54ad')\"\n",
              "            title=\"Suggest charts\"\n",
              "            style=\"display:none;\">\n",
              "\n",
              "<svg xmlns=\"http://www.w3.org/2000/svg\" height=\"24px\"viewBox=\"0 0 24 24\"\n",
              "     width=\"24px\">\n",
              "    <g>\n",
              "        <path d=\"M19 3H5c-1.1 0-2 .9-2 2v14c0 1.1.9 2 2 2h14c1.1 0 2-.9 2-2V5c0-1.1-.9-2-2-2zM9 17H7v-7h2v7zm4 0h-2V7h2v10zm4 0h-2v-4h2v4z\"/>\n",
              "    </g>\n",
              "</svg>\n",
              "  </button>\n",
              "\n",
              "<style>\n",
              "  .colab-df-quickchart {\n",
              "      --bg-color: #E8F0FE;\n",
              "      --fill-color: #1967D2;\n",
              "      --hover-bg-color: #E2EBFA;\n",
              "      --hover-fill-color: #174EA6;\n",
              "      --disabled-fill-color: #AAA;\n",
              "      --disabled-bg-color: #DDD;\n",
              "  }\n",
              "\n",
              "  [theme=dark] .colab-df-quickchart {\n",
              "      --bg-color: #3B4455;\n",
              "      --fill-color: #D2E3FC;\n",
              "      --hover-bg-color: #434B5C;\n",
              "      --hover-fill-color: #FFFFFF;\n",
              "      --disabled-bg-color: #3B4455;\n",
              "      --disabled-fill-color: #666;\n",
              "  }\n",
              "\n",
              "  .colab-df-quickchart {\n",
              "    background-color: var(--bg-color);\n",
              "    border: none;\n",
              "    border-radius: 50%;\n",
              "    cursor: pointer;\n",
              "    display: none;\n",
              "    fill: var(--fill-color);\n",
              "    height: 32px;\n",
              "    padding: 0;\n",
              "    width: 32px;\n",
              "  }\n",
              "\n",
              "  .colab-df-quickchart:hover {\n",
              "    background-color: var(--hover-bg-color);\n",
              "    box-shadow: 0 1px 2px rgba(60, 64, 67, 0.3), 0 1px 3px 1px rgba(60, 64, 67, 0.15);\n",
              "    fill: var(--button-hover-fill-color);\n",
              "  }\n",
              "\n",
              "  .colab-df-quickchart-complete:disabled,\n",
              "  .colab-df-quickchart-complete:disabled:hover {\n",
              "    background-color: var(--disabled-bg-color);\n",
              "    fill: var(--disabled-fill-color);\n",
              "    box-shadow: none;\n",
              "  }\n",
              "\n",
              "  .colab-df-spinner {\n",
              "    border: 2px solid var(--fill-color);\n",
              "    border-color: transparent;\n",
              "    border-bottom-color: var(--fill-color);\n",
              "    animation:\n",
              "      spin 1s steps(1) infinite;\n",
              "  }\n",
              "\n",
              "  @keyframes spin {\n",
              "    0% {\n",
              "      border-color: transparent;\n",
              "      border-bottom-color: var(--fill-color);\n",
              "      border-left-color: var(--fill-color);\n",
              "    }\n",
              "    20% {\n",
              "      border-color: transparent;\n",
              "      border-left-color: var(--fill-color);\n",
              "      border-top-color: var(--fill-color);\n",
              "    }\n",
              "    30% {\n",
              "      border-color: transparent;\n",
              "      border-left-color: var(--fill-color);\n",
              "      border-top-color: var(--fill-color);\n",
              "      border-right-color: var(--fill-color);\n",
              "    }\n",
              "    40% {\n",
              "      border-color: transparent;\n",
              "      border-right-color: var(--fill-color);\n",
              "      border-top-color: var(--fill-color);\n",
              "    }\n",
              "    60% {\n",
              "      border-color: transparent;\n",
              "      border-right-color: var(--fill-color);\n",
              "    }\n",
              "    80% {\n",
              "      border-color: transparent;\n",
              "      border-right-color: var(--fill-color);\n",
              "      border-bottom-color: var(--fill-color);\n",
              "    }\n",
              "    90% {\n",
              "      border-color: transparent;\n",
              "      border-bottom-color: var(--fill-color);\n",
              "    }\n",
              "  }\n",
              "</style>\n",
              "\n",
              "  <script>\n",
              "    async function quickchart(key) {\n",
              "      const quickchartButtonEl =\n",
              "        document.querySelector('#' + key + ' button');\n",
              "      quickchartButtonEl.disabled = true;  // To prevent multiple clicks.\n",
              "      quickchartButtonEl.classList.add('colab-df-spinner');\n",
              "      try {\n",
              "        const charts = await google.colab.kernel.invokeFunction(\n",
              "            'suggestCharts', [key], {});\n",
              "      } catch (error) {\n",
              "        console.error('Error during call to suggestCharts:', error);\n",
              "      }\n",
              "      quickchartButtonEl.classList.remove('colab-df-spinner');\n",
              "      quickchartButtonEl.classList.add('colab-df-quickchart-complete');\n",
              "    }\n",
              "    (() => {\n",
              "      let quickchartButtonEl =\n",
              "        document.querySelector('#df-cde71207-2f32-4a35-84d9-fcc0a60e54ad button');\n",
              "      quickchartButtonEl.style.display =\n",
              "        google.colab.kernel.accessAllowed ? 'block' : 'none';\n",
              "    })();\n",
              "  </script>\n",
              "</div>\n",
              "\n",
              "    </div>\n",
              "  </div>\n"
            ],
            "application/vnd.google.colaboratory.intrinsic+json": {
              "type": "dataframe",
              "variable_name": "train_df"
            }
          },
          "metadata": {},
          "execution_count": 3
        }
      ],
      "source": [
        "# Checking the first samples\n",
        "train_df.head()"
      ]
    },
    {
      "cell_type": "markdown",
      "id": "8bf2d1df",
      "metadata": {
        "id": "8bf2d1df"
      },
      "source": [
        "### Import Images and Data Processing\n",
        "\n",
        "The following section prepares the data for training and validation by separating the target labels (the ASL signs) from the input features (the data used to predict the signs)."
      ]
    },
    {
      "cell_type": "code",
      "execution_count": 4,
      "id": "4348519c",
      "metadata": {
        "id": "4348519c"
      },
      "outputs": [],
      "source": [
        "# Convert the 'label' column in the training and validation sets to a NumPy array\n",
        "y_train = np.array(train_df['label'])\n",
        "y_val = np.array(valid_df['label'])\n",
        "\n",
        "# Remove the 'label' column from the original training and validation sets\n",
        "# Keep only the input features\n",
        "del train_df['label']\n",
        "del valid_df['label']\n",
        "\n",
        "# Convert the remaining features data in the training and validation sets to NumPy arrays of type float32\n",
        "# float32 - common practice in deep learning for numerical stability and performance\n",
        "x_train = train_df.values.astype(np.float32)\n",
        "x_val = valid_df.values.astype(np.float32)"
      ]
    },
    {
      "cell_type": "code",
      "execution_count": 5,
      "id": "6c9bed68",
      "metadata": {
        "id": "6c9bed68",
        "colab": {
          "base_uri": "https://localhost:8080/"
        },
        "outputId": "e3f0e261-136d-49d8-e449-0f9759cdbe83"
      },
      "outputs": [
        {
          "output_type": "stream",
          "name": "stdout",
          "text": [
            "(27455, 784)\n",
            "(27455,)\n"
          ]
        }
      ],
      "source": [
        "print(x_train.shape)\n",
        "print(y_train.shape)"
      ]
    },
    {
      "cell_type": "code",
      "execution_count": 6,
      "id": "ea87a153",
      "metadata": {
        "id": "ea87a153",
        "colab": {
          "base_uri": "https://localhost:8080/"
        },
        "outputId": "5d17a502-6d86-48c9-d3de-6d8454c1c142"
      },
      "outputs": [
        {
          "output_type": "stream",
          "name": "stdout",
          "text": [
            "(7172, 784) (7172,)\n"
          ]
        }
      ],
      "source": [
        "print(x_val.shape, y_val.shape)"
      ]
    },
    {
      "cell_type": "code",
      "execution_count": 7,
      "id": "7b7edd3e",
      "metadata": {
        "id": "7b7edd3e"
      },
      "outputs": [],
      "source": [
        "def split_val_test(x, y, pct=0.5, shuffle=True):\n",
        "    \"\"\"\n",
        "    This function splits the data into training, validation, and test sets.\n",
        "\n",
        "    Parameters:\n",
        "    x: input features.\n",
        "    y: target variable.\n",
        "    pct: percentage of data to be used for validation and test sets.\n",
        "    shuffle: whether to shuffle the data before splitting.\n",
        "    \"\"\"\n",
        "    # Check if the number of samples in 'x' matches the samples in 'y'\n",
        "    assert x.shape[0] == y.shape[0]\n",
        "    # Determines the total number of samples present in the dataset - consider the number of rows\n",
        "    total_samples = x.shape[0]\n",
        "\n",
        "    # Ensure the data is randomly shuffled and not biased\n",
        "    if shuffle:\n",
        "        idxs = np.arange(x.shape[0])\n",
        "        np.random.shuffle(idxs)\n",
        "        x = x[idxs]\n",
        "        y = y[idxs]\n",
        "        #return x_val, y_val, x_test, y_test\n",
        "#         return x[:total_samples//2, :], y[:total_samples//2], x[total_samples//2:, :], y[total_samples//2:]\n",
        "    return x[:int(total_samples*pct), :], y[:int(total_samples*pct)], x[int(total_samples*(pct)):, :], y[int(total_samples*(pct)):]"
      ]
    },
    {
      "cell_type": "code",
      "execution_count": 8,
      "id": "6fb6fda2",
      "metadata": {
        "id": "6fb6fda2"
      },
      "outputs": [],
      "source": [
        "# Split the data - final validation and test set\n",
        "x_val, y_val, x_test, y_test = split_val_test(x_val, y_val)"
      ]
    },
    {
      "cell_type": "code",
      "execution_count": 9,
      "id": "986ec106",
      "metadata": {
        "id": "986ec106",
        "colab": {
          "base_uri": "https://localhost:8080/"
        },
        "outputId": "3393daf3-b264-4579-cf1e-e7720a81301a"
      },
      "outputs": [
        {
          "output_type": "stream",
          "name": "stdout",
          "text": [
            "(3586, 784) (3586,)\n",
            "(3586, 784) (3586,)\n"
          ]
        }
      ],
      "source": [
        "print(x_val.shape, y_val.shape)\n",
        "print(x_test.shape, y_test.shape)"
      ]
    },
    {
      "cell_type": "code",
      "execution_count": 10,
      "id": "d65bdf4c",
      "metadata": {
        "id": "d65bdf4c",
        "colab": {
          "base_uri": "https://localhost:8080/"
        },
        "outputId": "ad3a4f35-c353-45e3-8a8f-b8ae518101a7"
      },
      "outputs": [
        {
          "output_type": "stream",
          "name": "stdout",
          "text": [
            "24\n"
          ]
        }
      ],
      "source": [
        "# Creates a list of all lowercase letters in the alphabet\n",
        "# They involve motion and can't be represented in a static image format\n",
        "alphabet = list(string.ascii_lowercase)\n",
        "alphabet.remove('j')\n",
        "alphabet.remove('z')\n",
        "print(len(alphabet))"
      ]
    },
    {
      "cell_type": "markdown",
      "id": "f17874be",
      "metadata": {
        "id": "f17874be"
      },
      "source": [
        "### Normalization\n",
        "\n",
        "The following section normalizes the dataset to improve the performance and stability of the model.\n",
        "\n",
        "1. Subtrack the mean and divide it by the standard deviation.\n",
        "2. Compute the mean and standard deviation of the training data.\n",
        "3. Normalize the datasets using the training statistics.\n",
        "\n",
        "**Normalization**\n",
        "\n",
        "It ensures the feature values have a consistent scale, typically with a mean of 0 and a std of 1.\n",
        "\n",
        "**Data leakage**\n",
        "\n",
        "Occurs when a model uses information during training that wouldn't be available at the time of prediction. It leads to overfitting."
      ]
    },
    {
      "cell_type": "code",
      "execution_count": 11,
      "id": "b0a5cce2",
      "metadata": {
        "id": "b0a5cce2"
      },
      "outputs": [],
      "source": [
        "def normalise(x_mean, x_std, x_data):\n",
        "    return (x_data - x_mean) / x_std"
      ]
    },
    {
      "cell_type": "code",
      "execution_count": 12,
      "id": "b8cf6d30",
      "metadata": {
        "id": "b8cf6d30"
      },
      "outputs": [],
      "source": [
        "# Mean is calculated only on the training data to avoid data leakage\n",
        "x_mean = x_train.mean()\n",
        "# Standard deviation is calculated only on the training data\n",
        "x_std = x_train.std()\n",
        "\n",
        "# Normalize the datasets using the training statistics\n",
        "x_train = normalise(x_mean, x_std, x_train)\n",
        "x_val = normalise(x_mean, x_std, x_val)\n",
        "x_test = normalise(x_mean, x_std, x_test)"
      ]
    },
    {
      "cell_type": "code",
      "execution_count": 13,
      "id": "d0eef77a",
      "metadata": {
        "id": "d0eef77a",
        "colab": {
          "base_uri": "https://localhost:8080/"
        },
        "outputId": "30c66aad-af24-4237-d7e7-2feb7b07174d"
      },
      "outputs": [
        {
          "output_type": "execute_result",
          "data": {
            "text/plain": [
              "(3.6268384e-06, 0.99999946)"
            ]
          },
          "metadata": {},
          "execution_count": 13
        }
      ],
      "source": [
        "# After normalization, the mean should be close to 0 and std close to 1\n",
        "x_train.mean(), x_train.std()"
      ]
    },
    {
      "cell_type": "markdown",
      "source": [
        "### Plot samples\n",
        "\n",
        "The following section helps to visualize and inspect random samples from the dataset."
      ],
      "metadata": {
        "id": "CAi7qDPZGYit"
      },
      "id": "CAi7qDPZGYit"
    },
    {
      "cell_type": "code",
      "execution_count": 14,
      "id": "4761728d",
      "metadata": {
        "id": "4761728d"
      },
      "outputs": [],
      "source": [
        "def plot_number(image):\n",
        "    # Create a figure with 5x5 inch size\n",
        "    plt.figure(figsize=(5,5))\n",
        "    # Show the image in grayscale\n",
        "    plt.imshow(image.squeeze(), cmap=plt.get_cmap('gray'))\n",
        "    # Remove the axes\n",
        "    plt.axis('off')\n",
        "    plt.show()"
      ]
    },
    {
      "cell_type": "code",
      "execution_count": 15,
      "id": "1b9216b0",
      "metadata": {
        "id": "1b9216b0",
        "colab": {
          "base_uri": "https://localhost:8080/",
          "height": 457
        },
        "outputId": "0253d3a3-3608-41e2-8f4f-4c5496817436"
      },
      "outputs": [
        {
          "output_type": "stream",
          "name": "stdout",
          "text": [
            "The image represents the sign: T\n",
            "The value represents the sign: 18\n"
          ]
        },
        {
          "output_type": "display_data",
          "data": {
            "text/plain": [
              "<Figure size 500x500 with 1 Axes>"
            ],
            "image/png": "[encoded data removed]"
          },
          "metadata": {}
        }
      ],
      "source": [
        "# Select a random index from the test set\n",
        "rnd_idx = np.random.randint(len(y_test)) # Generate a random integer between 0 and the length of y_test\n",
        "\n",
        "# Assign the labels from the dataset\n",
        "label_to_sign = {0: 'A',\n",
        "                 1: 'B',\n",
        "                 2: 'C',\n",
        "                 3: 'D',\n",
        "                 4: 'E',\n",
        "                 5: 'F',\n",
        "                 6: 'G',\n",
        "                 7: 'H',\n",
        "                 8: 'I',\n",
        "                 9: 'K',\n",
        "                 10: 'L',\n",
        "                 11: 'M',\n",
        "                 12: 'N',\n",
        "                 13: 'O',\n",
        "                 14: 'P',\n",
        "                 15: 'Q',\n",
        "                 16: 'R',\n",
        "                 17: 'S',\n",
        "                 18: 'T',\n",
        "                 19: 'U',\n",
        "                 20: 'V',\n",
        "                 21: 'W',\n",
        "                 22: 'X',\n",
        "                 23: 'Y',\n",
        "                 24: 'Y'}  # Excluding 'J' and 'Z'\n",
        "print(f'The image represents the sign: {label_to_sign[y_test[rnd_idx]]}')\n",
        "print(f'The value represents the sign: {y_test[rnd_idx]}')\n",
        "\n",
        "# Reshape and plot the selected test image\n",
        "plot_number(x_test[rnd_idx].reshape(28,28))"
      ]
    },
    {
      "cell_type": "markdown",
      "id": "668cfc56",
      "metadata": {
        "id": "668cfc56"
      },
      "source": [
        "### Equations provided for our model\n",
        "\n",
        "$$z^1 = W^1 X + b^1$$\n",
        "\n",
        "$$a^1 = ReLU(z^1) $$\n",
        "\n",
        "\n",
        "$$z^2 = W^2 a^1 + b^2$$\n",
        "\n",
        "$$\\hat{y} = \\frac{e^{z^{2_k}}}{\\sum_j{e^{z_j}}}$$\n",
        "\n",
        "$$ \\mathcal{L}(\\hat{y}^{i}, y^{i}) =  - y^{i}  \\ln(\\hat{y}^{i}) = -\\ln(\\hat{y}^i)$$\n",
        "\n",
        "$$ \\mathcal{J}(w, b) =  \\frac{1}{num\\_samples} \\sum_{i=1}^{num\\_samples}-\\ln(\\hat{y}^{i})$$"
      ]
    },
    {
      "cell_type": "markdown",
      "id": "beae3ef9",
      "metadata": {
        "id": "beae3ef9"
      },
      "source": [
        "### Create mini batches\n",
        "\n",
        "The following section divides the section into smaller subsets called **mini-batches.**\n",
        "\n",
        "They make the training process faster and more effective at learning from the dataset."
      ]
    },
    {
      "cell_type": "code",
      "execution_count": 16,
      "id": "780beecf",
      "metadata": {
        "id": "780beecf"
      },
      "outputs": [],
      "source": [
        "def create_minibatches(mb_size, x, y, shuffle=True):\n",
        "    '''\n",
        "    Creates minibatches from the dataset.\n",
        "\n",
        "    Parameters:\n",
        "        mb_size (int): The size of each minibatch.\n",
        "        x (np.ndarray): Input data of shape (num_samples, num_features).\n",
        "        y (np.ndarray): Labels of shape (num_samples) from the input data.\n",
        "        shuffle (bool): Whether to shuffle the data before creating minibatches. Default is True.\n",
        "    '''\n",
        "    assert x.shape[0] == y.shape[0], 'Mismatch minibatch size'\n",
        "\n",
        "    # Total number of samples in the dataset\n",
        "    total_data = x.shape[0]\n",
        "\n",
        "    if shuffle:\n",
        "      # Create an array of indices [0, 1, 2, ..., total_data-1]\n",
        "      idxs = np.arange(total_data)\n",
        "      # Randomly shuffle the indices to randomize the order of the data\n",
        "      np.random.shuffle(idxs)\n",
        "      # Reorder `x` based on the shuffled indices\n",
        "      x = x[idxs]\n",
        "      # Reorder `y` based on the shuffled indices\n",
        "      y = y[idxs]\n",
        "\n",
        "    return ((x[i:i+mb_size], y[i:i+mb_size]) for i in range(0, total_data, mb_size))"
      ]
    },
    {
      "cell_type": "code",
      "execution_count": 17,
      "id": "4b8f845e",
      "metadata": {
        "id": "4b8f845e",
        "colab": {
          "base_uri": "https://localhost:8080/"
        },
        "outputId": "ebb5efd3-4ed6-4a93-93d9-a9ddbcb03e05"
      },
      "outputs": [
        {
          "output_type": "stream",
          "name": "stdout",
          "text": [
            "0\n",
            "1\n",
            "2\n",
            "3\n",
            "4\n",
            "5\n",
            "6\n",
            "7\n",
            "8\n",
            "9\n",
            "10\n",
            "11\n",
            "12\n",
            "13\n",
            "14\n",
            "15\n",
            "16\n",
            "17\n",
            "18\n",
            "19\n",
            "20\n",
            "21\n",
            "22\n",
            "23\n",
            "24\n",
            "25\n",
            "26\n",
            "27\n",
            "28\n",
            "29\n",
            "30\n",
            "31\n",
            "32\n",
            "33\n",
            "34\n",
            "35\n",
            "36\n",
            "37\n",
            "38\n",
            "39\n",
            "40\n",
            "41\n",
            "42\n",
            "43\n",
            "44\n",
            "45\n",
            "46\n",
            "47\n",
            "48\n",
            "49\n",
            "50\n",
            "51\n",
            "52\n",
            "53\n",
            "54\n",
            "55\n",
            "56\n",
            "57\n",
            "58\n",
            "59\n",
            "60\n",
            "61\n",
            "62\n",
            "63\n",
            "64\n",
            "65\n",
            "66\n",
            "67\n",
            "68\n",
            "69\n",
            "70\n",
            "71\n",
            "72\n",
            "73\n",
            "74\n",
            "75\n",
            "76\n",
            "77\n",
            "78\n",
            "79\n",
            "80\n",
            "81\n",
            "82\n",
            "83\n",
            "84\n",
            "85\n",
            "86\n",
            "87\n",
            "88\n",
            "89\n",
            "90\n",
            "91\n",
            "92\n",
            "93\n",
            "94\n",
            "95\n",
            "96\n",
            "97\n",
            "98\n",
            "99\n",
            "100\n",
            "101\n",
            "102\n",
            "103\n",
            "104\n",
            "105\n",
            "106\n",
            "107\n",
            "108\n",
            "109\n",
            "110\n",
            "111\n",
            "112\n",
            "113\n",
            "114\n",
            "115\n",
            "116\n",
            "117\n",
            "118\n",
            "119\n",
            "120\n",
            "121\n",
            "122\n",
            "123\n",
            "124\n",
            "125\n",
            "126\n",
            "127\n",
            "128\n",
            "129\n",
            "130\n",
            "131\n",
            "132\n",
            "133\n",
            "134\n",
            "135\n",
            "136\n",
            "137\n",
            "138\n",
            "139\n",
            "140\n",
            "141\n",
            "142\n",
            "143\n",
            "144\n",
            "145\n",
            "146\n",
            "147\n",
            "148\n",
            "149\n",
            "150\n",
            "151\n",
            "152\n",
            "153\n",
            "154\n",
            "155\n",
            "156\n",
            "157\n",
            "158\n",
            "159\n",
            "160\n",
            "161\n",
            "162\n",
            "163\n",
            "164\n",
            "165\n",
            "166\n",
            "167\n",
            "168\n",
            "169\n",
            "170\n",
            "171\n",
            "172\n",
            "173\n",
            "174\n",
            "175\n",
            "176\n",
            "177\n",
            "178\n",
            "179\n",
            "180\n",
            "181\n",
            "182\n",
            "183\n",
            "184\n",
            "185\n",
            "186\n",
            "187\n",
            "188\n",
            "189\n",
            "190\n",
            "191\n",
            "192\n",
            "193\n",
            "194\n",
            "195\n",
            "196\n",
            "197\n",
            "198\n",
            "199\n",
            "200\n",
            "201\n",
            "202\n",
            "203\n",
            "204\n",
            "205\n",
            "206\n",
            "207\n",
            "208\n",
            "209\n",
            "210\n",
            "211\n",
            "212\n",
            "213\n",
            "214\n"
          ]
        }
      ],
      "source": [
        "for i, (x, y) in enumerate(create_minibatches(128,x_train, y_train)):\n",
        "    print(i)"
      ]
    },
    {
      "cell_type": "markdown",
      "id": "12273997",
      "metadata": {
        "id": "12273997"
      },
      "source": [
        "## PyTorch Section"
      ]
    },
    {
      "cell_type": "code",
      "execution_count": 18,
      "id": "cbd1415d",
      "metadata": {
        "id": "cbd1415d"
      },
      "outputs": [],
      "source": [
        "# Convert the training, validation and test datatsets from NumPy arrays to PyTorch sensors.\n",
        "# Create a copy - avoid modifying the original datasets\n",
        "\n",
        "# Training set\n",
        "x_train_tensor = torch.tensor(x_train.copy())\n",
        "y_train_tensor = torch.tensor(y_train.copy())\n",
        "\n",
        "# Validation set\n",
        "x_val_tensor = torch.tensor(x_val.copy())\n",
        "y_val_tensor = torch.tensor(y_val.copy())\n",
        "\n",
        "# Test set\n",
        "x_test_tensor = torch.tensor(x_test.copy())\n",
        "y_test_tensor = torch.tensor(y_test.copy())"
      ]
    },
    {
      "cell_type": "markdown",
      "source": [
        "### Use GPUs\n",
        "\n",
        "To check if a GPU is available, if not, use a CPU."
      ],
      "metadata": {
        "id": "6beye0InLEqL"
      },
      "id": "6beye0InLEqL"
    },
    {
      "cell_type": "code",
      "execution_count": 19,
      "id": "087285a9",
      "metadata": {
        "id": "087285a9",
        "colab": {
          "base_uri": "https://localhost:8080/"
        },
        "outputId": "76e7e394-6174-4e46-cba5-915eb0b09aec"
      },
      "outputs": [
        {
          "output_type": "stream",
          "name": "stdout",
          "text": [
            "cuda\n"
          ]
        }
      ],
      "source": [
        "device = 'cuda' if torch.cuda.is_available() else 'cpu'\n",
        "print(device)"
      ]
    },
    {
      "cell_type": "markdown",
      "id": "823c3ba5",
      "metadata": {
        "id": "823c3ba5"
      },
      "source": [
        "### Calculate accuracy\n",
        "\n",
        "Accuracy is a metric that measures the proportion of correctly classified instances out of the total number of instances."
      ]
    },
    {
      "cell_type": "code",
      "execution_count": 33,
      "id": "e2e0f02a",
      "metadata": {
        "id": "e2e0f02a"
      },
      "outputs": [],
      "source": [
        "def accuracy(model, x, y, mb_size):\n",
        "    \"\"\"\n",
        "    This function evaluates the performance of the trained model on a dataset (x ,y).\n",
        "\n",
        "    Parameters:\n",
        "    model: A PyTorch model object.\n",
        "    x: Input features.\n",
        "    y: Target labels.\n",
        "    mb_size: Batch size for mini-batch processing.\n",
        "    \"\"\"\n",
        "    num_correct = 0\n",
        "    num_total = 0\n",
        "    cost = 0.\n",
        "    # Set the model to evaluation mode\n",
        "    model.eval()\n",
        "    # Move the model to the specified device\n",
        "    model = model.to(device=device)\n",
        "    # Disable gradient calculation during the evaluation process\n",
        "    with torch.no_grad():\n",
        "        # xi : input data (images)\n",
        "        # yi : labels or targets\n",
        "        for mb, (xi, yi) in enumerate(create_minibatches(mb_size, x, y),1):\n",
        "            xi = xi.to(device=device, dtype = torch.float32)\n",
        "            yi = yi.to(device=device, dtype = torch.long)\n",
        "            # Feed the input features to the `model` for prediction\n",
        "            scores = model(xi)\n",
        "            # Cross-entropy loss function to calculate the loss of the model's prediction\n",
        "            cost += (F.cross_entropy(scores, yi)).item() # `.item()` is used to extract the scalar value of the loss\n",
        "            # Extract the predicted labels from the scores\n",
        "            _, pred = scores.max(dim=1) # find the highest score along dimension '1'\n",
        "            num_correct += (pred == yi.squeeze()).sum()\n",
        "            num_total += pred.size(0)\n",
        "\n",
        "        return cost/mb, float(num_correct)/num_total"
      ]
    },
    {
      "cell_type": "markdown",
      "id": "533c2954",
      "metadata": {
        "id": "533c2954"
      },
      "source": [
        "### Training Loop\n",
        "\n",
        "Define the training process for the model.\n",
        "\n",
        "The `train` function is responsible for training the PyTorch model.\n",
        "\n",
        "It iterates through the data in epochs and mini-batches, makes predictions, calculates the loss, and updates the model's parameters to minimize the loss, improving its accuracy in recognizing ASL signs."
      ]
    },
    {
      "cell_type": "code",
      "execution_count": 34,
      "id": "6d0e44c7",
      "metadata": {
        "id": "6d0e44c7"
      },
      "outputs": [],
      "source": [
        "def train(model, optimiser, mb_size, epochs=100):\n",
        "    \"\"\"\n",
        "    This function trains a PyTorch model using the provided optimizer and data.\n",
        "\n",
        "    Parameters:\n",
        "    model: A PyTorch model object.\n",
        "    optimiser: An optimizer object.\n",
        "    mb_size: Batch size for mini-batch processing.\n",
        "    epochs: Number of training epochs.\n",
        "    \"\"\"\n",
        "\n",
        "    # Initialization\n",
        "    model = model.to(device=device)\n",
        "    train_cost = 0.\n",
        "    val_cost = 0.\n",
        "    for epoch in range(epochs):\n",
        "        train_correct_num  = 0.\n",
        "        train_total = 0.\n",
        "        train_cost_acum = 0\n",
        "        for mb, (xi, yi) in enumerate(create_minibatches(mb_size, x_train_tensor, y_train_tensor), 1):\n",
        "            model.train()\n",
        "            # xi : input data (images)\n",
        "            # yi : labels or targets\n",
        "            xi = xi.to(device=device, dtype=torch.float32)\n",
        "            yi = yi.to(device=device, dtype=torch.long)\n",
        "            # The model makes predictions\n",
        "            scores = model(xi)\n",
        "            # Calculate the loss or cost function using cross-entropy\n",
        "            cost = F.cross_entropy(input= scores, target=yi.squeeze())\n",
        "            # Reset the gradients to zero before calculate new gradients\n",
        "            optimiser.zero_grad()\n",
        "            # Calculate the gradients of the loss function using backpropagation\n",
        "            cost.backward()\n",
        "            # Update parameters\n",
        "            optimiser.step()\n",
        "\n",
        "            train_correct_num += (torch.argmax(scores, dim=1) == yi.squeeze()).sum()\n",
        "            train_total += scores.size(0)\n",
        "            train_cost_acum += cost.item()\n",
        "\n",
        "        val_cost, val_acc = accuracy(model, x_val_tensor, y_val_tensor, mb_size)\n",
        "        train_acc = float(train_correct_num)/train_total\n",
        "        train_cost = train_cost_acum/mb\n",
        "        if epoch % 10 == 0:\n",
        "            print(f'Epoch: {epoch} | Train Cost: {train_cost:.4f} | Val Cost: {val_cost:.4f} |'\n",
        "                      f' Train Accuracy: {train_acc:.4f} | Val Accuracy: {val_acc:.4f} |'\n",
        "                      f' Learning Rate: {optimiser.param_groups[0][\"lr\"]:.5f}')"
      ]
    },
    {
      "cell_type": "markdown",
      "id": "359b9243",
      "metadata": {
        "id": "359b9243"
      },
      "source": [
        "### Sequential Linear\n",
        "\n",
        "\n",
        "Define a sequential neural network with hidden layers, set hyperparameters for training, and initializes an optimizer to update the weights during training."
      ]
    },
    {
      "cell_type": "code",
      "execution_count": 35,
      "id": "c3d678e9",
      "metadata": {
        "id": "c3d678e9",
        "colab": {
          "base_uri": "https://localhost:8080/"
        },
        "outputId": "13a8a8fa-b812-4bd7-ef99-8080e159a438"
      },
      "outputs": [
        {
          "output_type": "stream",
          "name": "stdout",
          "text": [
            "Epoch: 0 | Train Cost: 0.8697 | Val Cost: 0.7746 | Train Accuracy: 0.7257 | Val Accuracy: 0.7736 | Learning Rate: 0.00400\n",
            "Epoch: 10 | Train Cost: 0.1779 | Val Cost: 1.5094 | Train Accuracy: 0.9543 | Val Accuracy: 0.7895 | Learning Rate: 0.00400\n",
            "Epoch: 20 | Train Cost: 0.1530 | Val Cost: 2.0130 | Train Accuracy: 0.9654 | Val Accuracy: 0.7817 | Learning Rate: 0.00400\n",
            "Epoch: 30 | Train Cost: 0.2073 | Val Cost: 1.8511 | Train Accuracy: 0.9609 | Val Accuracy: 0.8009 | Learning Rate: 0.00400\n",
            "Epoch: 40 | Train Cost: 0.1535 | Val Cost: 2.9040 | Train Accuracy: 0.9701 | Val Accuracy: 0.7942 | Learning Rate: 0.00400\n",
            "Epoch: 50 | Train Cost: 0.1874 | Val Cost: 2.5447 | Train Accuracy: 0.9641 | Val Accuracy: 0.7987 | Learning Rate: 0.00400\n",
            "Epoch: 60 | Train Cost: 0.1662 | Val Cost: 2.7412 | Train Accuracy: 0.9679 | Val Accuracy: 0.8017 | Learning Rate: 0.00400\n",
            "Epoch: 70 | Train Cost: 0.1616 | Val Cost: 2.7735 | Train Accuracy: 0.9701 | Val Accuracy: 0.7892 | Learning Rate: 0.00400\n",
            "Epoch: 80 | Train Cost: 0.1453 | Val Cost: 2.9082 | Train Accuracy: 0.9719 | Val Accuracy: 0.7981 | Learning Rate: 0.00400\n",
            "Epoch: 90 | Train Cost: 0.1723 | Val Cost: 2.7166 | Train Accuracy: 0.9682 | Val Accuracy: 0.7909 | Learning Rate: 0.00400\n"
          ]
        }
      ],
      "source": [
        "# hidden1 = 100\n",
        "hidden = 200\n",
        "lr = 1e-3\n",
        "epochs = 100\n",
        "mb_size = 128\n",
        "\n",
        "# Define the structure of the neural network\n",
        "model1 = nn.Sequential(nn.Linear(in_features=784, out_features=hidden),\n",
        "                       nn.Dropout(), # Regularization technique to prevent overfitting\n",
        "                       nn.ReLU(), # Activation function - replaces any negative input values with 0\n",
        "                      # nn.Linear(in_features=hidden1, out_features=hidden), nn.ReLU(),\n",
        "                       nn.Linear(in_features=hidden, out_features=24))\n",
        "\n",
        "# optimiser = torch.optim.SGD(model1.parameters(), lr=lr, momentum=0.9, weight_decay=1e-2)\n",
        "\n",
        "# Adam algorithm - update the weights of a NN during training\n",
        "optimiser = torch.optim.Adam(model1.parameters(), lr=lr, weight_decay=1e-4)\n",
        "# Set up a learning rate scheduler - adjust the LR during training to further improve performance\n",
        "scheduler = torch.optim.lr_scheduler.OneCycleLR(optimiser, 0.1, epochs=epochs, steps_per_epoch=215)\n",
        "\n",
        "train(model1, optimiser, mb_size, epochs)"
      ]
    },
    {
      "cell_type": "code",
      "execution_count": 36,
      "id": "c1942c3b",
      "metadata": {
        "id": "c1942c3b",
        "colab": {
          "base_uri": "https://localhost:8080/"
        },
        "outputId": "0fe70600-d876-4f54-bd30-a60c16865ba2"
      },
      "outputs": [
        {
          "output_type": "execute_result",
          "data": {
            "text/plain": [
              "0.7986614612381484"
            ]
          },
          "metadata": {},
          "execution_count": 36
        }
      ],
      "source": [
        "# Highest accuracy value\n",
        "accuracy(model1, x_test_tensor, y_test_tensor, mb_size)[1]"
      ]
    },
    {
      "cell_type": "code",
      "execution_count": 37,
      "id": "6fa8f9d8",
      "metadata": {
        "id": "6fa8f9d8"
      },
      "outputs": [],
      "source": [
        "def predict(x, model):\n",
        "    \"\"\"\n",
        "    This function makes predictions using a trained PyTorch model.\n",
        "\n",
        "    Parameters:\n",
        "    x: Input features.\n",
        "    model: A trained PyTorch model object.\n",
        "    \"\"\"\n",
        "    x = x.to(device=device, dtype = torch.float32)\n",
        "    scores = model(x) # mb_size, 10\n",
        "    # Extracts the predicted label from the `scores`\n",
        "    _, pred = scores.max(dim=1) #pred shape (mb_size )\n",
        "    return pred"
      ]
    },
    {
      "cell_type": "code",
      "execution_count": 41,
      "id": "bb4edc89",
      "metadata": {
        "id": "bb4edc89",
        "colab": {
          "base_uri": "https://localhost:8080/",
          "height": 457
        },
        "outputId": "e8264354-52df-44de-bd71-8c2e8b537a4b"
      },
      "outputs": [
        {
          "output_type": "stream",
          "name": "stdout",
          "text": [
            "The image represents the letter: g\n"
          ]
        },
        {
          "output_type": "display_data",
          "data": {
            "text/plain": [
              "<Figure size 500x500 with 1 Axes>"
            ],
            "image/png": "[encoded data removed]"
          },
          "metadata": {}
        },
        {
          "output_type": "stream",
          "name": "stdout",
          "text": [
            "The predicted value is: g\n"
          ]
        }
      ],
      "source": [
        "rnd_idx = np.random.randint(len(y_test))\n",
        "print(f'The image represents the letter: {alphabet[y_test[rnd_idx]]}')\n",
        "plot_number(x_test[rnd_idx].reshape(28,28))\n",
        "pred = predict(x_test_tensor[rnd_idx].reshape(1, -1), model1)\n",
        "print(f'The predicted value is: {alphabet[pred]}')"
      ]
    }
  ],
  "metadata": {
    "kernelspec": {
      "display_name": "Python 3",
      "name": "python3"
    },
    "language_info": {
      "codemirror_mode": {
        "name": "ipython",
        "version": 3
      },
      "file_extension": ".py",
      "mimetype": "text/x-python",
      "name": "python",
      "nbconvert_exporter": "python",
      "pygments_lexer": "ipython3",
      "version": "3.9.0"
    },
    "toc": {
      "base_numbering": 1,
      "nav_menu": {},
      "number_sections": true,
      "sideBar": true,
      "skip_h1_title": false,
      "title_cell": "Table of Contents",
      "title_sidebar": "Contents",
      "toc_cell": false,
      "toc_position": {},
      "toc_section_display": true,
      "toc_window_display": false
    },
    "varInspector": {
      "cols": {
        "lenName": 16,
        "lenType": 16,
        "lenVar": 40
      },
      "kernels_config": {
        "python": {
          "delete_cmd_postfix": "",
          "delete_cmd_prefix": "del ",
          "library": "var_list.py",
          "varRefreshCmd": "print(var_dic_list())"
        },
        "r": {
          "delete_cmd_postfix": ") ",
          "delete_cmd_prefix": "rm(",
          "library": "var_list.r",
          "varRefreshCmd": "cat(var_dic_list()) "
        }
      },
      "types_to_exclude": [
        "module",
        "function",
        "builtin_function_or_method",
        "instance",
        "_Feature"
      ],
      "window_display": false
    },
    "colab": {
      "provenance": [],
      "gpuType": "T4",
      "include_colab_link": true
    },
    "accelerator": "GPU"
  },
  "nbformat": 4,
  "nbformat_minor": 5
}