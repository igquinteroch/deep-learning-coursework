{
  "cells": [
    {
      "cell_type": "markdown",
      "metadata": {
        "id": "view-in-github",
        "colab_type": "text"
      },
      "source": [
        "<a href=\"https://colab.research.google.com/github/igquinteroch/deep-learning-coursework/blob/main/A1a_DL_TC5033_A01794419.ipynb\" target=\"_parent\"><img src=\"https://colab.research.google.com/assets/colab-badge.svg\" alt=\"Open In Colab\"/></a>"
      ]
    },
    {
      "cell_type": "markdown",
      "metadata": {
        "id": "yAUui8dGAiqK"
      },
      "source": [
        "# TC 5033\n",
        "## Deep Learning\n",
        "## Fully Connected Deep Neural Networks\n"
      ]
    },
    {
      "cell_type": "markdown",
      "metadata": {
        "id": "EQZ5ga40AiqL"
      },
      "source": [
        "#### Activity 1a: Implementing a Multilayer Fully Connected Network using Numpy\n",
        "#### Non-graded activity (0 points)\n",
        "\n",
        "- Objective\n",
        "\n",
        "  The primary objective of this activity is to deepen your understanding of Fully Connected Networks by implementing a multilayer network using only Numpy. You  are  given  the follosing starter code that solves the MNIST dataset problem. Your task is to read, understand, and then apply this knowledge to solve classification problems on other datasets such as the Kaggle ASL dataset (Starter code will be provided separately for that activity).\n",
        "\n",
        "- Instructions\n",
        "\n",
        "    Read and Understand the following Code: The provided starter code outlines the architecture of a Fully Connected Network designed to classify MNIST images. Go through the code to understand how each function and class is used to implement the network.\n",
        "\n",
        "    Understand the Math: Make sure you understand the math operations implemented in the code, especially during the forward and backward passes. This will involve matrix multiplications, activation functions, loss computations, and backpropagation.\n",
        "    \n",
        "- Experiment\n",
        "    You are encouraged to play with the code, change any hyperparameters and train the model, you should be able to achieve over 95% accuracy on the test set without problems.\n"
      ]
    },
    {
      "cell_type": "markdown",
      "source": [
        "### Import the libraries and set the stage\n",
        "\n",
        "* `numpy`: Performs mathematical operations on large arrays or matrices.\n",
        "* `matplotlib.pyplot`: Used for plotting data.\n",
        "* `%matplotlib inline`: It displays the figures inline in the notebook.\n",
        "* `os`: Allows interaction with the OS - e.g., directory navigation."
      ],
      "metadata": {
        "id": "-P5CD5xDdr-V"
      }
    },
    {
      "cell_type": "code",
      "execution_count": 1,
      "metadata": {
        "id": "kGVmsfsDAiqL",
        "colab": {
          "base_uri": "https://localhost:8080/"
        },
        "outputId": "1bcd227a-1b58-4d13-9805-88f149d4b561"
      },
      "outputs": [
        {
          "output_type": "stream",
          "name": "stdout",
          "text": [
            "Mounted at /content/drive\n"
          ]
        }
      ],
      "source": [
        "import numpy as np\n",
        "import matplotlib.pyplot as plt\n",
        "%matplotlib inline\n",
        "\n",
        "from google.colab import drive\n",
        "drive.mount(\"/content/drive\")\n",
        "\n",
        "import os\n",
        "os.chdir(\"/content/drive/MyDrive/TC5033.10\")"
      ]
    },
    {
      "cell_type": "markdown",
      "metadata": {
        "id": "pIhm-O4fAiqM"
      },
      "source": [
        "### Import Images"
      ]
    },
    {
      "cell_type": "code",
      "execution_count": 2,
      "metadata": {
        "id": "AWndLWsVAiqM"
      },
      "outputs": [],
      "source": [
        "from get_images import get_images\n",
        "\n",
        "# MNIST path\n",
        "mnist_path = './mnist_raw/'\n",
        "x_train_num, y_train_num, x_test_num, y_test_num = get_images(mnist_path)\n",
        "\n",
        "\n",
        "x_train = x_train_num[:50000].reshape(50000, -1).astype(float) # First 50k data and reshape it\n",
        "y_train = y_train_num[:50000].reshape(50000, 1)\n",
        "\n",
        "x_val = x_train_num[50000:].reshape(10000, -1).astype(float)\n",
        "y_val = y_train_num[50000:].reshape(10000, 1)\n",
        "\n",
        "x_test = x_test_num.copy().reshape(10000, -1).astype(float)\n",
        "y_test = y_test_num.copy().reshape(10000, 1)"
      ]
    },
    {
      "cell_type": "code",
      "execution_count": 3,
      "metadata": {
        "id": "PrPd5d9VAiqM",
        "colab": {
          "base_uri": "https://localhost:8080/"
        },
        "outputId": "f22ef681-29c0-437b-d51f-a10b9344f622"
      },
      "outputs": [
        {
          "output_type": "execute_result",
          "data": {
            "text/plain": [
              "(33.39512885204082, 78.6661972212754, 0.0)"
            ]
          },
          "metadata": {},
          "execution_count": 3
        }
      ],
      "source": [
        "x_train.mean(), x_train.std(), x_train.min()"
      ]
    },
    {
      "cell_type": "code",
      "execution_count": 4,
      "metadata": {
        "id": "Ab7s-R5UAiqM"
      },
      "outputs": [],
      "source": [
        "def normalise(x_mean, x_std, x_data):\n",
        "    return (x_data - x_mean) / x_std"
      ]
    },
    {
      "cell_type": "markdown",
      "source": [
        "It's necessary to normalize the validation and test data with the statistical data from training."
      ],
      "metadata": {
        "id": "DPUMtOfYccvs"
      }
    },
    {
      "cell_type": "code",
      "execution_count": 5,
      "metadata": {
        "id": "UvANHvh2AiqM"
      },
      "outputs": [],
      "source": [
        "x_mean = x_train.mean()\n",
        "x_std = x_train.std()\n",
        "\n",
        "x_train = normalise(x_mean, x_std, x_train)\n",
        "x_val = normalise(x_mean, x_std, x_val)\n",
        "x_test = normalise(x_mean, x_std, x_test)"
      ]
    },
    {
      "cell_type": "code",
      "execution_count": 6,
      "metadata": {
        "id": "J2ZWW127AiqN",
        "colab": {
          "base_uri": "https://localhost:8080/"
        },
        "outputId": "833e5ee2-8e75-460b-f594-b84e82eaa89c"
      },
      "outputs": [
        {
          "output_type": "execute_result",
          "data": {
            "text/plain": [
              "(-9.646705203355238e-18, 0.9999999999999997)"
            ]
          },
          "metadata": {},
          "execution_count": 6
        }
      ],
      "source": [
        "x_train.mean(), x_train.std()"
      ]
    },
    {
      "cell_type": "markdown",
      "metadata": {
        "id": "HKu1S4NaAiqN"
      },
      "source": [
        "### Plot samples\n",
        "\n",
        "The following section helps to visualize and inspect random samples from the dataset."
      ]
    },
    {
      "cell_type": "code",
      "execution_count": 7,
      "metadata": {
        "id": "SRoOOoXlAiqN"
      },
      "outputs": [],
      "source": [
        "def plot_number(image):\n",
        "    plt.figure(figsize=(5,5))\n",
        "    plt.imshow(image.squeeze(), cmap=plt.get_cmap('gray'))\n",
        "    plt.axis('off')\n",
        "    plt.show()"
      ]
    },
    {
      "cell_type": "code",
      "execution_count": 8,
      "metadata": {
        "id": "QZvjeHrVAiqN",
        "colab": {
          "base_uri": "https://localhost:8080/",
          "height": 439
        },
        "outputId": "e4ea47d3-57a3-4c86-8035-06e99d371a8b"
      },
      "outputs": [
        {
          "output_type": "stream",
          "name": "stdout",
          "text": [
            "The image represents a/an: 5\n"
          ]
        },
        {
          "output_type": "display_data",
          "data": {
            "text/plain": [
              "<Figure size 500x500 with 1 Axes>"
            ],
            "image/png": "[encoded data removed]"
          },
          "metadata": {}
        }
      ],
      "source": [
        "rnd_idx = np.random.randint(len(y_test))\n",
        "print(f'The image represents a/an: {y_test[rnd_idx, 0]}')\n",
        "plot_number(x_test_num[rnd_idx])"
      ]
    },
    {
      "cell_type": "markdown",
      "metadata": {
        "id": "PdfNKUG6AiqN"
      },
      "source": [
        "### Equations provided for our model\n",
        "\n",
        "$$z^1 = W^1 X + b^1$$\n",
        "\n",
        "$$a^1 = ReLU(z^1) $$\n",
        "\n",
        "\n",
        "$$z^2 = W^2 a^1 + b^2$$\n",
        "\n",
        "$$\\hat{y} = \\frac{e^{z^{2_k}}}{\\sum_j{e^{z_j}}}$$\n",
        "\n",
        "$$ \\mathcal{L}(\\hat{y}^{i}, y^{i}) =  - y^{i}  \\ln(\\hat{y}^{i}) = -\\ln(\\hat{y}^i)$$\n",
        "\n",
        "$$ \\mathcal{J}(w, b) =  \\frac{1}{num\\_samples} \\sum_{i=1}^{num\\_samples}-\\ln(\\hat{y}^{i})$$"
      ]
    },
    {
      "cell_type": "markdown",
      "metadata": {
        "id": "jqRHbjZjAiqN"
      },
      "source": [
        "### Helper functions"
      ]
    },
    {
      "cell_type": "markdown",
      "metadata": {
        "id": "lErC2gbKAiqO"
      },
      "source": [
        "#### Create mini batches\n",
        "\n",
        "The following section divides the section into smaller subsets called **mini-batches.**\n",
        "\n",
        "They make the training process faster and more effective at learning from the dataset."
      ]
    },
    {
      "cell_type": "code",
      "execution_count": 11,
      "metadata": {
        "id": "-sxP2bvdAiqO"
      },
      "outputs": [],
      "source": [
        "def create_minibatches(mb_size, x, y, shuffle=True):\n",
        "    '''\n",
        "    Creates minibatches from the dataset.\n",
        "\n",
        "    Parameters:\n",
        "        mb_size (int): The size of each minibatch.\n",
        "        x (np.ndarray): Input data of shape (num_samples, num_features).\n",
        "        y (np.ndarray): Labels of shape (num_samples) from the input data.\n",
        "        shuffle (bool): Whether to shuffle the data before creating minibatches. Default is True.\n",
        "    '''\n",
        "    assert x.shape[0] == y.shape[0], 'Error in number of samples'\n",
        "    total_data = x.shape[0]\n",
        "    if shuffle:\n",
        "        idxs = np.arange(total_data)\n",
        "        np.random.shuffle(idxs)\n",
        "        x = x[idxs]\n",
        "        y = y[idxs]\n",
        "    return ((x[i:i+mb_size], y[i:i+mb_size]) for i in range(0, total_data, mb_size))"
      ]
    },
    {
      "cell_type": "markdown",
      "metadata": {
        "id": "_KO6D4-mAiqO"
      },
      "source": [
        "## Linear, ReLU, and Sequential Classes"
      ]
    },
    {
      "cell_type": "code",
      "execution_count": 12,
      "metadata": {
        "id": "uhHLBlL4AiqO"
      },
      "outputs": [],
      "source": [
        "# Generate attributes to the parameters using the below class\n",
        "\"\"\"\n",
        "(np.ndarray): This indicates that the new class ´np_tensor´ inherits from the ´np.ndarray´ class.\n",
        "´np.ndarray´ is the core class in the NumPy library representing multi-dimensional arrays.\n",
        "By inheriting from ´np.darray´, ´np_tensor´ gets all the functionality of NumPy arrays.\n",
        "\"\"\"\n",
        "\n",
        "class np_tensor(np.ndarray): pass"
      ]
    },
    {
      "cell_type": "code",
      "execution_count": 13,
      "metadata": {
        "id": "hj9GU4mJAiqO"
      },
      "outputs": [],
      "source": [
        "a = np.array([0, 0])\n",
        "b = a.view(np_tensor)"
      ]
    },
    {
      "cell_type": "code",
      "execution_count": 15,
      "metadata": {
        "id": "9jRt2yNrAiqO",
        "colab": {
          "base_uri": "https://localhost:8080/"
        },
        "outputId": "e3fd2d9c-6b8a-4008-81d8-2932361efac1"
      },
      "outputs": [
        {
          "output_type": "execute_result",
          "data": {
            "text/plain": [
              "(numpy.ndarray, __main__.np_tensor)"
            ]
          },
          "metadata": {},
          "execution_count": 15
        }
      ],
      "source": [
        "type(a), type(b)"
      ]
    },
    {
      "cell_type": "code",
      "execution_count": 16,
      "metadata": {
        "id": "8qILloodAiqO",
        "colab": {
          "base_uri": "https://localhost:8080/"
        },
        "outputId": "435ce9e0-ce9d-47c7-875d-58ede6346e61"
      },
      "outputs": [
        {
          "output_type": "execute_result",
          "data": {
            "text/plain": [
              "np_tensor([ True,  True])"
            ]
          },
          "metadata": {},
          "execution_count": 16
        }
      ],
      "source": [
        "a == b"
      ]
    },
    {
      "cell_type": "markdown",
      "metadata": {
        "id": "67tGmszHAiqO"
      },
      "source": [
        "###  Linear Class\n",
        "\n",
        "$$z^1 = W^1 X + b^1$$\n",
        "\n"
      ]
    },
    {
      "cell_type": "code",
      "execution_count": 17,
      "metadata": {
        "code_folding": [],
        "id": "WYsyYvnGAiqO"
      },
      "outputs": [],
      "source": [
        "class Linear():\n",
        "    def __init__(self, input_size, output_size):\n",
        "        '''\n",
        "        Init parameters using Kaiming He\n",
        "        '''\n",
        "        self.W = (np.random.randn(output_size, input_size) / np.sqrt(input_size/2)).view(np_tensor)\n",
        "        self.b = (np.zeros((output_size, 1))).view(np_tensor)\n",
        "\n",
        "    # __call__: It is called automatically when we call the name of the class instance and pass the parameters\n",
        "    def __call__(self, X):\n",
        "        Z = self.W @ X + self.b # @ = dot product\n",
        "        return Z\n",
        "\n",
        "    def backward(self, X, Z): # X = input (output from the previous layer), Z = output\n",
        "        X.grad = self.W.T @ Z.grad\n",
        "        self.W.grad = Z.grad @ X.T\n",
        "        self.b.grad = np.sum(Z.grad, axis = 1, keepdims=True)\n"
      ]
    },
    {
      "cell_type": "markdown",
      "metadata": {
        "id": "J4LsoiQXAiqP"
      },
      "source": [
        "### ReLU Class\n",
        "\n",
        "In the following section, we apply the ReLU activation function to the input data (input data coming from the activation function of the previous layer).\n",
        "\n",
        "$$a^1 = ReLU(z^1) $$"
      ]
    },
    {
      "cell_type": "code",
      "execution_count": 19,
      "metadata": {
        "code_folding": [],
        "id": "0xbr0pseAiqP"
      },
      "outputs": [],
      "source": [
        "class ReLU():\n",
        "    def __call__(self, Z): # Z: input\n",
        "        return np.maximum(0, Z)\n",
        "    def backward(self, Z, A): # A: output\n",
        "        Z.grad = A.grad.copy()\n",
        "        Z.grad[Z <= 0] = 0"
      ]
    },
    {
      "cell_type": "markdown",
      "metadata": {
        "id": "xHbaKztZAiqP"
      },
      "source": [
        "### Sequential Class"
      ]
    },
    {
      "cell_type": "code",
      "execution_count": 20,
      "metadata": {
        "code_folding": [],
        "id": "tE4vcbNgAiqP"
      },
      "outputs": [],
      "source": [
        "class Sequential_layers():\n",
        "    def __init__(self, layers):\n",
        "        '''\n",
        "        layers - list that contains Linear type objects, ReLU\n",
        "        '''\n",
        "        self.layers = layers\n",
        "        self.x = None\n",
        "        self.outputs = {}\n",
        "    def __call__(self, X):\n",
        "        self.x = X\n",
        "        self.outputs['l0'] = self.x\n",
        "        for i, layer in enumerate(self.layers, 1):\n",
        "            self.x = layer(self.x)\n",
        "            self.outputs['l'+str(i)]=self.x\n",
        "        return self.x\n",
        "    def backward(self):\n",
        "        for i in reversed(range(len(self.layers))):\n",
        "            self.layers[i].backward(self.outputs['l'+str(i)], self.outputs['l'+str(i+1)])\n",
        "    def update(self, learning_rate = 1e-3):\n",
        "        for layer in self.layers:\n",
        "            if isinstance(layer, ReLU): continue\n",
        "            layer.W = layer.W - learning_rate * layer.W.grad\n",
        "            layer.b = layer.b - learning_rate * layer.b.grad\n",
        "    def predict(self, X):\n",
        "        return np.argmax(self.__call__(X))"
      ]
    },
    {
      "cell_type": "markdown",
      "metadata": {
        "id": "yTzNtvwwAiqP"
      },
      "source": [
        "### Cost Function"
      ]
    },
    {
      "cell_type": "code",
      "execution_count": 22,
      "metadata": {
        "code_folding": [],
        "id": "HwuZQyWrAiqP"
      },
      "outputs": [],
      "source": [
        "def softmaxXEntropy(x, y):\n",
        "    batch_size = x.shape[1]\n",
        "    exp_scores = np.exp(x)\n",
        "    probs = exp_scores / exp_scores.sum(axis = 0)\n",
        "    preds = probs.copy()\n",
        "\n",
        "    # Cost\n",
        "    y_hat = probs[y.squeeze(), np.arange(batch_size)]\n",
        "    cost = np.sum(-np.log(y_hat)) / batch_size\n",
        "\n",
        "    # Calculate gradients\n",
        "    probs[y.squeeze(), np.arange(batch_size)] -= 1\n",
        "    x.grad = probs.copy()\n",
        "\n",
        "    return preds, cost"
      ]
    },
    {
      "cell_type": "markdown",
      "metadata": {
        "id": "PlWAvJ2eAiqP"
      },
      "source": [
        "### Training loop"
      ]
    },
    {
      "cell_type": "code",
      "execution_count": 34,
      "metadata": {
        "code_folding": [],
        "id": "kGuquAZYAiqP"
      },
      "outputs": [],
      "source": [
        "def train(model, epochs, mb_size=128, learning_rate = 1e-3):\n",
        "    for epoch in range(epochs):\n",
        "        for i, (x, y) in enumerate(create_minibatches(mb_size, x_train, y_train)):\n",
        "            scores = model(x.T.view(np_tensor))\n",
        "            _, cost = softmaxXEntropy(scores, y)\n",
        "            model.backward()\n",
        "            model.update(learning_rate)\n",
        "        print(f'Cost: {cost:.4f} | Accuracy: {accuracy(x_val, y_val, mb_size):.2f}')"
      ]
    },
    {
      "cell_type": "code",
      "execution_count": 35,
      "metadata": {
        "code_folding": [],
        "id": "2kL920n2AiqP"
      },
      "outputs": [],
      "source": [
        "def accuracy(x, y, mb_size):\n",
        "    correct = 0\n",
        "    total = 0\n",
        "    for i, (x, y) in enumerate(create_minibatches(mb_size, x, y)):\n",
        "        pred = model(x.T.view(np_tensor))\n",
        "        correct += np.sum(np.argmax(pred, axis=0) == y.squeeze())\n",
        "        total += pred.shape[1]\n",
        "    return correct/total"
      ]
    },
    {
      "cell_type": "code",
      "execution_count": 36,
      "metadata": {
        "id": "uQFxdvo3AiqQ"
      },
      "outputs": [],
      "source": [
        "model = Sequential_layers([Linear(784, 200), ReLU(), Linear(200, 200), ReLU(), Linear(200, 10)])\n",
        "mb_size = 512\n",
        "learning_rate = 1e-4\n",
        "epochs = 20"
      ]
    },
    {
      "cell_type": "code",
      "execution_count": 37,
      "metadata": {
        "id": "MbIHfBnXAiqQ",
        "colab": {
          "base_uri": "https://localhost:8080/"
        },
        "outputId": "e691a26f-762c-424a-ac01-e5782541a218"
      },
      "outputs": [
        {
          "output_type": "stream",
          "name": "stdout",
          "text": [
            "Cost: 0.3565 | Accuracy: 0.92\n",
            "Cost: 0.2288 | Accuracy: 0.94\n",
            "Cost: 0.1447 | Accuracy: 0.95\n",
            "Cost: 0.1643 | Accuracy: 0.95\n",
            "Cost: 0.1435 | Accuracy: 0.96\n",
            "Cost: 0.1268 | Accuracy: 0.96\n",
            "Cost: 0.1309 | Accuracy: 0.96\n",
            "Cost: 0.1130 | Accuracy: 0.96\n",
            "Cost: 0.0942 | Accuracy: 0.96\n",
            "Cost: 0.1025 | Accuracy: 0.97\n",
            "Cost: 0.0781 | Accuracy: 0.97\n",
            "Cost: 0.0678 | Accuracy: 0.97\n",
            "Cost: 0.1089 | Accuracy: 0.97\n",
            "Cost: 0.0399 | Accuracy: 0.97\n",
            "Cost: 0.1270 | Accuracy: 0.97\n",
            "Cost: 0.0611 | Accuracy: 0.97\n",
            "Cost: 0.0849 | Accuracy: 0.97\n",
            "Cost: 0.0523 | Accuracy: 0.97\n",
            "Cost: 0.0512 | Accuracy: 0.97\n",
            "Cost: 0.0543 | Accuracy: 0.97\n"
          ]
        }
      ],
      "source": [
        "train(model, epochs, mb_size, learning_rate)"
      ]
    },
    {
      "cell_type": "code",
      "execution_count": 38,
      "metadata": {
        "id": "IRENI4mrAiqQ",
        "colab": {
          "base_uri": "https://localhost:8080/"
        },
        "outputId": "349eb5dd-ae4d-4d14-e253-0763ee4e37e3"
      },
      "outputs": [
        {
          "output_type": "stream",
          "name": "stdout",
          "text": [
            "0.9712\n"
          ]
        }
      ],
      "source": [
        "print(accuracy(x_test, y_test, mb_size))"
      ]
    },
    {
      "cell_type": "code",
      "execution_count": 50,
      "metadata": {
        "id": "Yn0P-o3oAiqQ",
        "colab": {
          "base_uri": "https://localhost:8080/",
          "height": 439
        },
        "outputId": "4ecb6d2c-944a-4a79-9085-682a727e69cf"
      },
      "outputs": [
        {
          "output_type": "display_data",
          "data": {
            "text/plain": [
              "<Figure size 500x500 with 1 Axes>"
            ],
            "image/png": "[encoded data removed]"
          },
          "metadata": {}
        },
        {
          "output_type": "stream",
          "name": "stdout",
          "text": [
            "The predicted value is: 3 | The real value is: 3\n"
          ]
        }
      ],
      "source": [
        "idx = np.random.randint(len(y_test))\n",
        "plot_number(x_test_num[idx])\n",
        "pred = model.predict(x_test[idx].reshape(-1, 1))\n",
        "print(f'The predicted value is: {pred} | The real value is: {y_test[idx][0]}')"
      ]
    }
  ],
  "metadata": {
    "kernelspec": {
      "display_name": "Python 3",
      "name": "python3"
    },
    "language_info": {
      "codemirror_mode": {
        "name": "ipython",
        "version": 3
      },
      "file_extension": ".py",
      "mimetype": "text/x-python",
      "name": "python",
      "nbconvert_exporter": "python",
      "pygments_lexer": "ipython3",
      "version": "3.9.0"
    },
    "toc": {
      "base_numbering": 1,
      "nav_menu": {},
      "number_sections": true,
      "sideBar": true,
      "skip_h1_title": false,
      "title_cell": "Table of Contents",
      "title_sidebar": "Contents",
      "toc_cell": false,
      "toc_position": {},
      "toc_section_display": true,
      "toc_window_display": false
    },
    "varInspector": {
      "cols": {
        "lenName": 16,
        "lenType": 16,
        "lenVar": 40
      },
      "kernels_config": {
        "python": {
          "delete_cmd_postfix": "",
          "delete_cmd_prefix": "del ",
          "library": "var_list.py",
          "varRefreshCmd": "print(var_dic_list())"
        },
        "r": {
          "delete_cmd_postfix": ") ",
          "delete_cmd_prefix": "rm(",
          "library": "var_list.r",
          "varRefreshCmd": "cat(var_dic_list()) "
        }
      },
      "types_to_exclude": [
        "module",
        "function",
        "builtin_function_or_method",
        "instance",
        "_Feature"
      ],
      "window_display": false
    },
    "colab": {
      "provenance": [],
      "gpuType": "T4",
      "include_colab_link": true
    },
    "accelerator": "GPU"
  },
  "nbformat": 4,
  "nbformat_minor": 0
}