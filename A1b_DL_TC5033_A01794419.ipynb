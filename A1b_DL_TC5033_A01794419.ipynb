{
  "cells": [
    {
      "cell_type": "markdown",
      "metadata": {
        "id": "view-in-github",
        "colab_type": "text"
      },
      "source": [
        "<a href=\"https://colab.research.google.com/github/igquinteroch/deep-learning-coursework/blob/main/A1b_DL_TC5033_A01794419.ipynb\" target=\"_parent\"><img src=\"https://colab.research.google.com/assets/colab-badge.svg\" alt=\"Open In Colab\"/></a>"
      ]
    },
    {
      "cell_type": "markdown",
      "metadata": {
        "id": "6qBh7DOP-2tC"
      },
      "source": [
        "# TC 5033\n",
        "## Deep Learning\n",
        "## Fully Connected Deep Neural Networks\n",
        "\n",
        "### Activity 1b: Implementing a Fully Connected Network for Kaggle ASL Dataset\n",
        "\n",
        "## Objective\n",
        "\n",
        "The aim of this part of the activity is to apply your understanding of Fully Connected Networks by implementing a multilayer network for the [Kaggle ASL (American Sign Language) dataset](https://www.kaggle.com/datasets/grassknoted/asl-alphabet).\n",
        "\n",
        "While you have been provided with a complete solution for a Fully Connected Network using Numpy for the MNIST dataset, you are encouraged to try to come up with the solution.\n",
        "\n",
        "## Instructions\n",
        "\n",
        "  This activity requires submission in teams of 3 or 4 members. Submissions from smaller or larger teams will not be accepted unless prior approval has been granted (only due to exceptional circumstances).\n",
        "  \n",
        "  While teamwork is encouraged, each member is expected to contribute individually to the assignment. The final submission should feature the best arguments and solutions from each team member. Only one person per team needs to submit the completed work, but it is imperative that the names of all team members are listed in a Markdown cell at the very beginning of the notebook (either the first or second cell).\n",
        "  \n",
        "  Failure to include all team member names will result in the grade being awarded solely to the individual who submitted the assignment, with zero points given to other team members (no exceptions will be made to this rule).\n",
        "\n",
        "  * Load and Preprocess Data: You are provided a starter code to load the data. Be sure to understand the code.\n",
        "\n",
        "  * Review MNIST Notebook (Optional): Before diving into this activity, you have the option to revisit the MNIST example to refresh your understanding of how to build a Fully Connected Network using Numpy.\n",
        "\n",
        "  * Start Fresh: Although you can refer to the MNIST solution at any point, try to implement the network for the ASL dataset on your own. This will reinforce your learning and understanding of the architecture and mathematics involved.\n",
        "\n",
        "  * Implement Forward and Backward Pass: Write the code to perform the forward and backward passes, keeping in mind the specific challenges and characteristics of the ASL dataset.\n",
        "    \n",
        "  * Design the Network: Create the architecture of the Fully Connected Network tailored for the ASL dataset. Choose the number of hidden layers, neurons, and hyperparameters judiciously.\n",
        "\n",
        "  * Train the Model: Execute the training loop, ensuring to track performance metrics such as loss and accuracy.\n",
        "\n",
        "  * Analyze and Document: Use Markdown cells to document in detail the choices you made in terms of architecture and hyperparameters, you may use figures, equations, etc to aid in your explanations. Include any metrics that help justify these choices and discuss the model's performance.  \n",
        "\n",
        "## Evaluation Criteria\n",
        "\n",
        "* Code Readability and Comments\n",
        "* Appropriateness of chosen architecture and hyperparameters for the ASL dataset\n",
        "* Performance of the model on the ASL dataset (at least 70% acc)\n",
        "* Quality of Markdown documentation\n",
        "\n",
        "## Submission\n",
        "\n",
        "Submit this Jupyter Notebook in canvas with your complete solution, ensuring your code is well-commented and includes Markdown cells that explain your design choices, results, and any challenges you encountered.\n"
      ]
    },
    {
      "cell_type": "markdown",
      "source": [
        "### Import the libraries and set the stage\n",
        "\n",
        "\n",
        "* `numpy`: Performs mathematical operations on large arrays or matrices.\n",
        "* `string`: Provides utilities for string processing.\n",
        "* `pandas`: Used for data manipulation.\n",
        "* `matplotlib.pyplot`: Used for plotting data.\n",
        "* `cv2`: Used for image processing.\n",
        "* `os`: Allows interaction with the OS - e.g., directory navigation."
      ],
      "metadata": {
        "id": "V5ZyLLufuovh"
      }
    },
    {
      "cell_type": "code",
      "execution_count": null,
      "metadata": {
        "id": "Qt6iXs5T-2tE",
        "colab": {
          "base_uri": "https://localhost:8080/"
        },
        "outputId": "eb5c1559-80ec-4c22-e94b-a68737851696"
      },
      "outputs": [
        {
          "output_type": "stream",
          "name": "stdout",
          "text": [
            "Mounted at /content/drive\n"
          ]
        }
      ],
      "source": [
        "import numpy as np\n",
        "import string\n",
        "import pandas as pd\n",
        "import matplotlib.pyplot as plt\n",
        "import cv2 as cv\n",
        "import os\n",
        "\n",
        "# Enabling autoreload in the Jupyter Notebook\n",
        "%load_ext autoreload\n",
        "%autoreload 2\n",
        "\n",
        "# Show plots inline in the notebook\n",
        "%matplotlib inline\n",
        "\n",
        "# Provides access to the Drive from within the notebook\n",
        "from google.colab import drive\n",
        "\n",
        "# Mounts the Drive into the Colab environment\n",
        "drive.mount(\"/content/drive\")\n",
        "\n",
        "# Changes the current working directory to the specified path in Google Drive.\n",
        "os.chdir(\"/content/drive/MyDrive/TC5033.10\")"
      ]
    },
    {
      "cell_type": "code",
      "execution_count": null,
      "metadata": {
        "id": "2T9bfL4U-2tE",
        "colab": {
          "base_uri": "https://localhost:8080/",
          "height": 211
        },
        "outputId": "ca329bfe-6ba1-4736-f29e-71bb05ebf5b9"
      },
      "outputs": [
        {
          "output_type": "error",
          "ename": "NameError",
          "evalue": "name 'pd' is not defined",
          "traceback": [
            "\u001b[0;31m---------------------------------------------------------------------------\u001b[0m",
            "\u001b[0;31mNameError\u001b[0m                                 Traceback (most recent call last)",
            "\u001b[0;32m<ipython-input-1-04afe58c1ad3>\u001b[0m in \u001b[0;36m<cell line: 0>\u001b[0;34m()\u001b[0m\n\u001b[1;32m      2\u001b[0m \u001b[0;34m\u001b[0m\u001b[0m\n\u001b[1;32m      3\u001b[0m \u001b[0;31m# Loading the training dataset\u001b[0m\u001b[0;34m\u001b[0m\u001b[0;34m\u001b[0m\u001b[0m\n\u001b[0;32m----> 4\u001b[0;31m \u001b[0mtrain_df\u001b[0m \u001b[0;34m=\u001b[0m \u001b[0mpd\u001b[0m\u001b[0;34m.\u001b[0m\u001b[0mread_csv\u001b[0m\u001b[0;34m(\u001b[0m\u001b[0mos\u001b[0m\u001b[0;34m.\u001b[0m\u001b[0mpath\u001b[0m\u001b[0;34m.\u001b[0m\u001b[0mjoin\u001b[0m\u001b[0;34m(\u001b[0m\u001b[0mDATA_PATH\u001b[0m\u001b[0;34m,\u001b[0m \u001b[0;34m'sign_mnist_train.csv'\u001b[0m\u001b[0;34m)\u001b[0m\u001b[0;34m)\u001b[0m \u001b[0;31m# os.path.join() basically combines the DATA_PATH with the filename to create a full path to the file\u001b[0m\u001b[0;34m\u001b[0m\u001b[0;34m\u001b[0m\u001b[0m\n\u001b[0m\u001b[1;32m      5\u001b[0m \u001b[0;34m\u001b[0m\u001b[0m\n\u001b[1;32m      6\u001b[0m \u001b[0;31m# Loading the validation dataset\u001b[0m\u001b[0;34m\u001b[0m\u001b[0;34m\u001b[0m\u001b[0m\n",
            "\u001b[0;31mNameError\u001b[0m: name 'pd' is not defined"
          ]
        }
      ],
      "source": [
        "DATA_PATH = \"/content/drive/MyDrive/TC5033.10/asl_data\"\n",
        "\n",
        "# Loading the training dataset\n",
        "train_df = pd.read_csv(os.path.join(DATA_PATH, 'sign_mnist_train.csv')) # os.path.join() basically combines the DATA_PATH with the filename to create a full path to the file\n",
        "\n",
        "# Loading the validation dataset\n",
        "valid_df = pd.read_csv(os.path.join(DATA_PATH, 'sign_mnist_valid.csv'))"
      ]
    },
    {
      "cell_type": "code",
      "execution_count": null,
      "metadata": {
        "colab": {
          "base_uri": "https://localhost:8080/",
          "height": 236
        },
        "id": "UPSKDme7-2tE",
        "outputId": "441b7aac-3460-4228-e340-6a25f5fff425"
      },
      "outputs": [
        {
          "output_type": "execute_result",
          "data": {
            "text/plain": [
              "   label  pixel1  pixel2  pixel3  pixel4  pixel5  pixel6  pixel7  pixel8  \\\n",
              "0      3     107     118     127     134     139     143     146     150   \n",
              "1      6     155     157     156     156     156     157     156     158   \n",
              "2      2     187     188     188     187     187     186     187     188   \n",
              "3      2     211     211     212     212     211     210     211     210   \n",
              "4     12     164     167     170     172     176     179     180     184   \n",
              "\n",
              "   pixel9  ...  pixel775  pixel776  pixel777  pixel778  pixel779  pixel780  \\\n",
              "0     153  ...       207       207       207       207       206       206   \n",
              "1     158  ...        69       149       128        87        94       163   \n",
              "2     187  ...       202       201       200       199       198       199   \n",
              "3     210  ...       235       234       233       231       230       226   \n",
              "4     185  ...        92       105       105       108       133       163   \n",
              "\n",
              "   pixel781  pixel782  pixel783  pixel784  \n",
              "0       206       204       203       202  \n",
              "1       175       103       135       149  \n",
              "2       198       195       194       195  \n",
              "3       225       222       229       163  \n",
              "4       157       163       164       179  \n",
              "\n",
              "[5 rows x 785 columns]"
            ],
            "text/html": [
              "\n",
              "  <div id=\"df-6fde588a-ae87-4c4d-be2e-c0a06b7fb6ad\" class=\"colab-df-container\">\n",
              "    <div>\n",
              "<style scoped>\n",
              "    .dataframe tbody tr th:only-of-type {\n",
              "        vertical-align: middle;\n",
              "    }\n",
              "\n",
              "    .dataframe tbody tr th {\n",
              "        vertical-align: top;\n",
              "    }\n",
              "\n",
              "    .dataframe thead th {\n",
              "        text-align: right;\n",
              "    }\n",
              "</style>\n",
              "<table border=\"1\" class=\"dataframe\">\n",
              "  <thead>\n",
              "    <tr style=\"text-align: right;\">\n",
              "      <th></th>\n",
              "      <th>label</th>\n",
              "      <th>pixel1</th>\n",
              "      <th>pixel2</th>\n",
              "      <th>pixel3</th>\n",
              "      <th>pixel4</th>\n",
              "      <th>pixel5</th>\n",
              "      <th>pixel6</th>\n",
              "      <th>pixel7</th>\n",
              "      <th>pixel8</th>\n",
              "      <th>pixel9</th>\n",
              "      <th>...</th>\n",
              "      <th>pixel775</th>\n",
              "      <th>pixel776</th>\n",
              "      <th>pixel777</th>\n",
              "      <th>pixel778</th>\n",
              "      <th>pixel779</th>\n",
              "      <th>pixel780</th>\n",
              "      <th>pixel781</th>\n",
              "      <th>pixel782</th>\n",
              "      <th>pixel783</th>\n",
              "      <th>pixel784</th>\n",
              "    </tr>\n",
              "  </thead>\n",
              "  <tbody>\n",
              "    <tr>\n",
              "      <th>0</th>\n",
              "      <td>3</td>\n",
              "      <td>107</td>\n",
              "      <td>118</td>\n",
              "      <td>127</td>\n",
              "      <td>134</td>\n",
              "      <td>139</td>\n",
              "      <td>143</td>\n",
              "      <td>146</td>\n",
              "      <td>150</td>\n",
              "      <td>153</td>\n",
              "      <td>...</td>\n",
              "      <td>207</td>\n",
              "      <td>207</td>\n",
              "      <td>207</td>\n",
              "      <td>207</td>\n",
              "      <td>206</td>\n",
              "      <td>206</td>\n",
              "      <td>206</td>\n",
              "      <td>204</td>\n",
              "      <td>203</td>\n",
              "      <td>202</td>\n",
              "    </tr>\n",
              "    <tr>\n",
              "      <th>1</th>\n",
              "      <td>6</td>\n",
              "      <td>155</td>\n",
              "      <td>157</td>\n",
              "      <td>156</td>\n",
              "      <td>156</td>\n",
              "      <td>156</td>\n",
              "      <td>157</td>\n",
              "      <td>156</td>\n",
              "      <td>158</td>\n",
              "      <td>158</td>\n",
              "      <td>...</td>\n",
              "      <td>69</td>\n",
              "      <td>149</td>\n",
              "      <td>128</td>\n",
              "      <td>87</td>\n",
              "      <td>94</td>\n",
              "      <td>163</td>\n",
              "      <td>175</td>\n",
              "      <td>103</td>\n",
              "      <td>135</td>\n",
              "      <td>149</td>\n",
              "    </tr>\n",
              "    <tr>\n",
              "      <th>2</th>\n",
              "      <td>2</td>\n",
              "      <td>187</td>\n",
              "      <td>188</td>\n",
              "      <td>188</td>\n",
              "      <td>187</td>\n",
              "      <td>187</td>\n",
              "      <td>186</td>\n",
              "      <td>187</td>\n",
              "      <td>188</td>\n",
              "      <td>187</td>\n",
              "      <td>...</td>\n",
              "      <td>202</td>\n",
              "      <td>201</td>\n",
              "      <td>200</td>\n",
              "      <td>199</td>\n",
              "      <td>198</td>\n",
              "      <td>199</td>\n",
              "      <td>198</td>\n",
              "      <td>195</td>\n",
              "      <td>194</td>\n",
              "      <td>195</td>\n",
              "    </tr>\n",
              "    <tr>\n",
              "      <th>3</th>\n",
              "      <td>2</td>\n",
              "      <td>211</td>\n",
              "      <td>211</td>\n",
              "      <td>212</td>\n",
              "      <td>212</td>\n",
              "      <td>211</td>\n",
              "      <td>210</td>\n",
              "      <td>211</td>\n",
              "      <td>210</td>\n",
              "      <td>210</td>\n",
              "      <td>...</td>\n",
              "      <td>235</td>\n",
              "      <td>234</td>\n",
              "      <td>233</td>\n",
              "      <td>231</td>\n",
              "      <td>230</td>\n",
              "      <td>226</td>\n",
              "      <td>225</td>\n",
              "      <td>222</td>\n",
              "      <td>229</td>\n",
              "      <td>163</td>\n",
              "    </tr>\n",
              "    <tr>\n",
              "      <th>4</th>\n",
              "      <td>12</td>\n",
              "      <td>164</td>\n",
              "      <td>167</td>\n",
              "      <td>170</td>\n",
              "      <td>172</td>\n",
              "      <td>176</td>\n",
              "      <td>179</td>\n",
              "      <td>180</td>\n",
              "      <td>184</td>\n",
              "      <td>185</td>\n",
              "      <td>...</td>\n",
              "      <td>92</td>\n",
              "      <td>105</td>\n",
              "      <td>105</td>\n",
              "      <td>108</td>\n",
              "      <td>133</td>\n",
              "      <td>163</td>\n",
              "      <td>157</td>\n",
              "      <td>163</td>\n",
              "      <td>164</td>\n",
              "      <td>179</td>\n",
              "    </tr>\n",
              "  </tbody>\n",
              "</table>\n",
              "<p>5 rows × 785 columns</p>\n",
              "</div>\n",
              "    <div class=\"colab-df-buttons\">\n",
              "\n",
              "  <div class=\"colab-df-container\">\n",
              "    <button class=\"colab-df-convert\" onclick=\"convertToInteractive('df-6fde588a-ae87-4c4d-be2e-c0a06b7fb6ad')\"\n",
              "            title=\"Convert this dataframe to an interactive table.\"\n",
              "            style=\"display:none;\">\n",
              "\n",
              "  <svg xmlns=\"http://www.w3.org/2000/svg\" height=\"24px\" viewBox=\"0 -960 960 960\">\n",
              "    <path d=\"M120-120v-720h720v720H120Zm60-500h600v-160H180v160Zm220 220h160v-160H400v160Zm0 220h160v-160H400v160ZM180-400h160v-160H180v160Zm440 0h160v-160H620v160ZM180-180h160v-160H180v160Zm440 0h160v-160H620v160Z\"/>\n",
              "  </svg>\n",
              "    </button>\n",
              "\n",
              "  <style>\n",
              "    .colab-df-container {\n",
              "      display:flex;\n",
              "      gap: 12px;\n",
              "    }\n",
              "\n",
              "    .colab-df-convert {\n",
              "      background-color: #E8F0FE;\n",
              "      border: none;\n",
              "      border-radius: 50%;\n",
              "      cursor: pointer;\n",
              "      display: none;\n",
              "      fill: #1967D2;\n",
              "      height: 32px;\n",
              "      padding: 0 0 0 0;\n",
              "      width: 32px;\n",
              "    }\n",
              "\n",
              "    .colab-df-convert:hover {\n",
              "      background-color: #E2EBFA;\n",
              "      box-shadow: 0px 1px 2px rgba(60, 64, 67, 0.3), 0px 1px 3px 1px rgba(60, 64, 67, 0.15);\n",
              "      fill: #174EA6;\n",
              "    }\n",
              "\n",
              "    .colab-df-buttons div {\n",
              "      margin-bottom: 4px;\n",
              "    }\n",
              "\n",
              "    [theme=dark] .colab-df-convert {\n",
              "      background-color: #3B4455;\n",
              "      fill: #D2E3FC;\n",
              "    }\n",
              "\n",
              "    [theme=dark] .colab-df-convert:hover {\n",
              "      background-color: #434B5C;\n",
              "      box-shadow: 0px 1px 3px 1px rgba(0, 0, 0, 0.15);\n",
              "      filter: drop-shadow(0px 1px 2px rgba(0, 0, 0, 0.3));\n",
              "      fill: #FFFFFF;\n",
              "    }\n",
              "  </style>\n",
              "\n",
              "    <script>\n",
              "      const buttonEl =\n",
              "        document.querySelector('#df-6fde588a-ae87-4c4d-be2e-c0a06b7fb6ad button.colab-df-convert');\n",
              "      buttonEl.style.display =\n",
              "        google.colab.kernel.accessAllowed ? 'block' : 'none';\n",
              "\n",
              "      async function convertToInteractive(key) {\n",
              "        const element = document.querySelector('#df-6fde588a-ae87-4c4d-be2e-c0a06b7fb6ad');\n",
              "        const dataTable =\n",
              "          await google.colab.kernel.invokeFunction('convertToInteractive',\n",
              "                                                    [key], {});\n",
              "        if (!dataTable) return;\n",
              "\n",
              "        const docLinkHtml = 'Like what you see? Visit the ' +\n",
              "          '<a target=\"_blank\" href=https://colab.research.google.com/notebooks/data_table.ipynb>data table notebook</a>'\n",
              "          + ' to learn more about interactive tables.';\n",
              "        element.innerHTML = '';\n",
              "        dataTable['output_type'] = 'display_data';\n",
              "        await google.colab.output.renderOutput(dataTable, element);\n",
              "        const docLink = document.createElement('div');\n",
              "        docLink.innerHTML = docLinkHtml;\n",
              "        element.appendChild(docLink);\n",
              "      }\n",
              "    </script>\n",
              "  </div>\n",
              "\n",
              "\n",
              "<div id=\"df-17bff362-77f2-47e6-8da7-fa08da842627\">\n",
              "  <button class=\"colab-df-quickchart\" onclick=\"quickchart('df-17bff362-77f2-47e6-8da7-fa08da842627')\"\n",
              "            title=\"Suggest charts\"\n",
              "            style=\"display:none;\">\n",
              "\n",
              "<svg xmlns=\"http://www.w3.org/2000/svg\" height=\"24px\"viewBox=\"0 0 24 24\"\n",
              "     width=\"24px\">\n",
              "    <g>\n",
              "        <path d=\"M19 3H5c-1.1 0-2 .9-2 2v14c0 1.1.9 2 2 2h14c1.1 0 2-.9 2-2V5c0-1.1-.9-2-2-2zM9 17H7v-7h2v7zm4 0h-2V7h2v10zm4 0h-2v-4h2v4z\"/>\n",
              "    </g>\n",
              "</svg>\n",
              "  </button>\n",
              "\n",
              "<style>\n",
              "  .colab-df-quickchart {\n",
              "      --bg-color: #E8F0FE;\n",
              "      --fill-color: #1967D2;\n",
              "      --hover-bg-color: #E2EBFA;\n",
              "      --hover-fill-color: #174EA6;\n",
              "      --disabled-fill-color: #AAA;\n",
              "      --disabled-bg-color: #DDD;\n",
              "  }\n",
              "\n",
              "  [theme=dark] .colab-df-quickchart {\n",
              "      --bg-color: #3B4455;\n",
              "      --fill-color: #D2E3FC;\n",
              "      --hover-bg-color: #434B5C;\n",
              "      --hover-fill-color: #FFFFFF;\n",
              "      --disabled-bg-color: #3B4455;\n",
              "      --disabled-fill-color: #666;\n",
              "  }\n",
              "\n",
              "  .colab-df-quickchart {\n",
              "    background-color: var(--bg-color);\n",
              "    border: none;\n",
              "    border-radius: 50%;\n",
              "    cursor: pointer;\n",
              "    display: none;\n",
              "    fill: var(--fill-color);\n",
              "    height: 32px;\n",
              "    padding: 0;\n",
              "    width: 32px;\n",
              "  }\n",
              "\n",
              "  .colab-df-quickchart:hover {\n",
              "    background-color: var(--hover-bg-color);\n",
              "    box-shadow: 0 1px 2px rgba(60, 64, 67, 0.3), 0 1px 3px 1px rgba(60, 64, 67, 0.15);\n",
              "    fill: var(--button-hover-fill-color);\n",
              "  }\n",
              "\n",
              "  .colab-df-quickchart-complete:disabled,\n",
              "  .colab-df-quickchart-complete:disabled:hover {\n",
              "    background-color: var(--disabled-bg-color);\n",
              "    fill: var(--disabled-fill-color);\n",
              "    box-shadow: none;\n",
              "  }\n",
              "\n",
              "  .colab-df-spinner {\n",
              "    border: 2px solid var(--fill-color);\n",
              "    border-color: transparent;\n",
              "    border-bottom-color: var(--fill-color);\n",
              "    animation:\n",
              "      spin 1s steps(1) infinite;\n",
              "  }\n",
              "\n",
              "  @keyframes spin {\n",
              "    0% {\n",
              "      border-color: transparent;\n",
              "      border-bottom-color: var(--fill-color);\n",
              "      border-left-color: var(--fill-color);\n",
              "    }\n",
              "    20% {\n",
              "      border-color: transparent;\n",
              "      border-left-color: var(--fill-color);\n",
              "      border-top-color: var(--fill-color);\n",
              "    }\n",
              "    30% {\n",
              "      border-color: transparent;\n",
              "      border-left-color: var(--fill-color);\n",
              "      border-top-color: var(--fill-color);\n",
              "      border-right-color: var(--fill-color);\n",
              "    }\n",
              "    40% {\n",
              "      border-color: transparent;\n",
              "      border-right-color: var(--fill-color);\n",
              "      border-top-color: var(--fill-color);\n",
              "    }\n",
              "    60% {\n",
              "      border-color: transparent;\n",
              "      border-right-color: var(--fill-color);\n",
              "    }\n",
              "    80% {\n",
              "      border-color: transparent;\n",
              "      border-right-color: var(--fill-color);\n",
              "      border-bottom-color: var(--fill-color);\n",
              "    }\n",
              "    90% {\n",
              "      border-color: transparent;\n",
              "      border-bottom-color: var(--fill-color);\n",
              "    }\n",
              "  }\n",
              "</style>\n",
              "\n",
              "  <script>\n",
              "    async function quickchart(key) {\n",
              "      const quickchartButtonEl =\n",
              "        document.querySelector('#' + key + ' button');\n",
              "      quickchartButtonEl.disabled = true;  // To prevent multiple clicks.\n",
              "      quickchartButtonEl.classList.add('colab-df-spinner');\n",
              "      try {\n",
              "        const charts = await google.colab.kernel.invokeFunction(\n",
              "            'suggestCharts', [key], {});\n",
              "      } catch (error) {\n",
              "        console.error('Error during call to suggestCharts:', error);\n",
              "      }\n",
              "      quickchartButtonEl.classList.remove('colab-df-spinner');\n",
              "      quickchartButtonEl.classList.add('colab-df-quickchart-complete');\n",
              "    }\n",
              "    (() => {\n",
              "      let quickchartButtonEl =\n",
              "        document.querySelector('#df-17bff362-77f2-47e6-8da7-fa08da842627 button');\n",
              "      quickchartButtonEl.style.display =\n",
              "        google.colab.kernel.accessAllowed ? 'block' : 'none';\n",
              "    })();\n",
              "  </script>\n",
              "</div>\n",
              "\n",
              "    </div>\n",
              "  </div>\n"
            ],
            "application/vnd.google.colaboratory.intrinsic+json": {
              "type": "dataframe",
              "variable_name": "train_df"
            }
          },
          "metadata": {},
          "execution_count": 3
        }
      ],
      "source": [
        "# Checking the first samples\n",
        "train_df.head()"
      ]
    },
    {
      "cell_type": "markdown",
      "metadata": {
        "id": "Mo0d5FlJ-2tF"
      },
      "source": [
        "### Import Images and Data Processing\n",
        "\n",
        "The following section prepares the data for training and validation by separating the target labels (the ASL signs) from the input features (the data used to predict the signs)."
      ]
    },
    {
      "cell_type": "code",
      "execution_count": null,
      "metadata": {
        "id": "gAQwhN4z-2tF"
      },
      "outputs": [],
      "source": [
        "# Convert the 'label' column in the training and validation sets to a NumPy array\n",
        "y_train = np.array(train_df['label'])\n",
        "y_val = np.array(valid_df['label'])\n",
        "\n",
        "# Remove the 'label' column from the original training and validation sets\n",
        "# Keep only the input features\n",
        "del train_df['label']\n",
        "del valid_df['label']\n",
        "\n",
        "# Convert the remaining features data in the training and validation sets to NumPy arrays of type float32\n",
        "# float32 - common practice in deep learning for numerical stability and performance\n",
        "x_train = train_df.values.astype(np.float32)\n",
        "x_val = valid_df.values.astype(np.float32)"
      ]
    },
    {
      "cell_type": "code",
      "execution_count": null,
      "metadata": {
        "code_folding": [],
        "id": "Hjo3IGIZ-2tF"
      },
      "outputs": [],
      "source": [
        "def split_val_test(x, y, pct=0.5, shuffle=True):\n",
        "    '''\n",
        "    This function splits any dataset into two subsets (validation set and test set)\n",
        "    It helps to assess how well the model generalizes to new data\n",
        "\n",
        "    Parameters:\n",
        "        x (np.ndarray): The feature data (input values)\n",
        "        y (np.ndarray): The labels corresponding to the feature data.\n",
        "        pct (float): The proportion of the data to allocate to the test set. Default is 0.5 (50%)\n",
        "        shuffle (bool): Whether to shuffle the data before splitting. Default is True.\n",
        "    '''\n",
        "    # Create shuffled indices for randomizing the dataset\n",
        "    if shuffle:\n",
        "        # Creates a sequence of numbers representing the indices of each data point\n",
        "        indices = np.arange(len(x))\n",
        "        np.random.shuffle(indices)\n",
        "        # Reorder the dataset based on the shuffled indices\n",
        "        x = x[indices]\n",
        "        y = y[indices]\n",
        "\n",
        "    # Calculate the split index based on the percentage allocated to the test set\n",
        "    split_idx = int(len(x) * (1 - pct))\n",
        "\n",
        "    # Split the data into validation and test sets\n",
        "    x_val, x_test = x[:split_idx], x[split_idx:]\n",
        "    y_val, y_test = y[:split_idx], y[split_idx:]\n",
        "\n",
        "    return x_val, y_val, x_test, y_test"
      ]
    },
    {
      "cell_type": "code",
      "execution_count": null,
      "metadata": {
        "id": "WLu6Kxxo-2tF"
      },
      "outputs": [],
      "source": [
        "# Split the validation set into a smaller validation set and a test set\n",
        "x_val, y_val, x_test, y_test = split_val_test(x_val, y_val)"
      ]
    },
    {
      "cell_type": "code",
      "execution_count": null,
      "metadata": {
        "id": "y-AiHVAD-2tF",
        "colab": {
          "base_uri": "https://localhost:8080/"
        },
        "outputId": "88dae897-a0f0-43fa-a1fd-0758311cda85"
      },
      "outputs": [
        {
          "output_type": "stream",
          "name": "stdout",
          "text": [
            "24\n"
          ]
        }
      ],
      "source": [
        "# Creates a list of all lowercase letters in the alphabet\n",
        "# They involve motion and can't be represented in a static image format\n",
        "alphabet=list(string.ascii_lowercase)\n",
        "alphabet.remove('j')\n",
        "alphabet.remove('z')\n",
        "print(len(alphabet))"
      ]
    },
    {
      "cell_type": "markdown",
      "metadata": {
        "id": "RJsf9MJl-2tF"
      },
      "source": [
        "### Normalise\n",
        "\n",
        "The following section normalizes the dataset to improve the performance and stability of the model.\n",
        "\n",
        "1. Subtrack the mean and divide it by the standard deviation.\n",
        "2. Compute the mean and standard deviation of the training data.\n",
        "3. Normalize the datasets using the training statistics.\n",
        "\n",
        "**Normalization**\n",
        "\n",
        "It ensures the feature values have a consistent scale, typically with a mean of 0 and a std of 1.\n",
        "\n",
        "**Data leakage**\n",
        "\n",
        "Occurs when a model uses information during training that wouldn't be available at the time of prediction. It leads to overfitting."
      ]
    },
    {
      "cell_type": "code",
      "source": [
        "def normalise(x_mean, x_std, x_data):\n",
        "    return (x_data - x_mean) / x_std"
      ],
      "metadata": {
        "id": "X9VWppWJib-h"
      },
      "execution_count": null,
      "outputs": []
    },
    {
      "cell_type": "code",
      "source": [
        "# Mean is calculated only on the training data to avoid data leakage\n",
        "x_mean = x_train.mean()\n",
        "# Standard deviation is calculated only on the training data\n",
        "x_std = x_train.std()\n",
        "\n",
        "# Normalize the datasets using the training statistics\n",
        "x_train = normalise(x_mean, x_std, x_train)\n",
        "x_val = normalise(x_mean, x_std, x_val)\n",
        "x_test = normalise(x_mean, x_std, x_test)"
      ],
      "metadata": {
        "id": "qQXqvAnMiiIr"
      },
      "execution_count": null,
      "outputs": []
    },
    {
      "cell_type": "code",
      "source": [
        "# After normalization, the mean should be close to 0 and std close to 1\n",
        "x_train.mean(), x_train.std()"
      ],
      "metadata": {
        "colab": {
          "base_uri": "https://localhost:8080/"
        },
        "id": "K4hnmf1vijnl",
        "outputId": "2608f14a-e6da-40e0-e209-24651932f7a1"
      },
      "execution_count": null,
      "outputs": [
        {
          "output_type": "execute_result",
          "data": {
            "text/plain": [
              "(3.6268384e-06, 0.99999946)"
            ]
          },
          "metadata": {},
          "execution_count": 12
        }
      ]
    },
    {
      "cell_type": "markdown",
      "metadata": {
        "id": "mKZ0AIoH-2tG"
      },
      "source": [
        "### Plot samples\n",
        "\n",
        "The following section helps to visualize and inspect random samples from the dataset."
      ]
    },
    {
      "cell_type": "code",
      "source": [
        "def plot_number(image):\n",
        "    # Create a figure with 5x5 inch size\n",
        "    plt.figure(figsize=(5,5))\n",
        "    # Show the image in grayscale\n",
        "    plt.imshow(image.squeeze(), cmap=plt.get_cmap('gray'))\n",
        "    # Remove the axes\n",
        "    plt.axis('off')\n",
        "    plt.show()"
      ],
      "metadata": {
        "id": "NB_rlDN_iUT8"
      },
      "execution_count": null,
      "outputs": []
    },
    {
      "cell_type": "code",
      "source": [
        "# Select a random index from the test set\n",
        "rnd_idx = np.random.randint(len(y_test)) # Generate a random integer between 0 and the length of y_test\n",
        "\n",
        "# Assign the labels from the dataset\n",
        "label_to_sign = {0: 'A',\n",
        "                 1: 'B',\n",
        "                 2: 'C',\n",
        "                 3: 'D',\n",
        "                 4: 'E',\n",
        "                 5: 'F',\n",
        "                 6: 'G',\n",
        "                 7: 'H',\n",
        "                 8: 'I',\n",
        "                 9: 'K',\n",
        "                 10: 'L',\n",
        "                 11: 'M',\n",
        "                 12: 'N',\n",
        "                 13: 'O',\n",
        "                 14: 'P',\n",
        "                 15: 'Q',\n",
        "                 16: 'R',\n",
        "                 17: 'S',\n",
        "                 18: 'T',\n",
        "                 19: 'U',\n",
        "                 20: 'V',\n",
        "                 21: 'W',\n",
        "                 22: 'X',\n",
        "                 23: 'Y',\n",
        "                 24: 'Y'}  # Excluding 'J' and 'Z'\n",
        "print(f'The image represents the sign: {label_to_sign[y_test[rnd_idx]]}')\n",
        "print(f'The value represents the sign: {y_test[rnd_idx]}')\n",
        "\n",
        "# Reshape and plot the selected test image\n",
        "plot_number(x_test[rnd_idx].reshape(28,28))"
      ],
      "metadata": {
        "colab": {
          "base_uri": "https://localhost:8080/",
          "height": 457
        },
        "id": "k2VZuB1LiWIX",
        "outputId": "53dab97a-648f-48a1-ebce-8d6373288223"
      },
      "execution_count": null,
      "outputs": [
        {
          "output_type": "stream",
          "name": "stdout",
          "text": [
            "The image represents the sign: R\n",
            "The value represents the sign: 16\n"
          ]
        },
        {
          "output_type": "display_data",
          "data": {
            "text/plain": [
              "<Figure size 500x500 with 1 Axes>"
            ],
            "image/png": "[encoded data removed]"
          },
          "metadata": {}
        }
      ]
    },
    {
      "cell_type": "markdown",
      "metadata": {
        "id": "wACP0vmV-2tG"
      },
      "source": [
        "### Equations provided for our model\n",
        "\n",
        "$$z^1 = W^1 X + b^1$$\n",
        "\n",
        "$$a^1 = ReLU(z^1) $$\n",
        "\n",
        "\n",
        "$$z^2 = W^2 a^1 + b^2$$\n",
        "\n",
        "$$\\hat{y} = \\frac{e^{z^{2_k}}}{\\sum_j{e^{z_j}}}$$\n",
        "\n",
        "$$ \\mathcal{L}(\\hat{y}^{i}, y^{i}) =  - y^{i}  \\ln(\\hat{y}^{i}) = -\\ln(\\hat{y}^i)$$\n",
        "\n",
        "$$ \\mathcal{J}(w, b) =  \\frac{1}{num\\_samples} \\sum_{i=1}^{num\\_samples}-\\ln(\\hat{y}^{i})$$"
      ]
    },
    {
      "cell_type": "markdown",
      "metadata": {
        "id": "qB-9nDMC-2tG"
      },
      "source": [
        "#### Create mini batches\n",
        "\n",
        "The following section divides the section into smaller subsets called **mini-batches.**\n",
        "\n",
        "They make the training process faster and more effective at learning from the dataset."
      ]
    },
    {
      "cell_type": "code",
      "execution_count": null,
      "metadata": {
        "id": "OzT_mq4x-2tG"
      },
      "outputs": [],
      "source": [
        "def create_minibatches(mb_size, x, y, shuffle=True):\n",
        "    '''\n",
        "    Creates minibatches from the dataset.\n",
        "\n",
        "    Parameters:\n",
        "        mb_size (int): The size of each minibatch.\n",
        "        x (np.ndarray): Input data of shape (num_samples, num_features).\n",
        "        y (np.ndarray): Labels of shape (num_samples) from the input data.\n",
        "        shuffle (bool): Whether to shuffle the data before creating minibatches. Default is True.\n",
        "    '''\n",
        "    assert x.shape[0] == y.shape[0], 'Mismatch minibatch size'\n",
        "\n",
        "    # Total number of samples in the dataset\n",
        "    total_data = x.shape[0]\n",
        "\n",
        "    if shuffle:\n",
        "      # Create an array of indices [0, 1, 2, ..., total_data-1]\n",
        "      idxs = np.arange(total_data)\n",
        "      # Randomly shuffle the indices to randomize the order of the data\n",
        "      np.random.shuffle(idxs)\n",
        "      # Reorder `x` based on the shuffled indices\n",
        "      x = x[idxs]\n",
        "      # Reorder `y` based on the shuffled indices\n",
        "      y = y[idxs]\n",
        "\n",
        "    # Generate minibatches by iterating through the data in steps of `mb_size`\n",
        "    for i in range(0, total_data, mb_size):\n",
        "      yield x[i:i + mb_size], y[i:i + mb_size]"
      ]
    },
    {
      "cell_type": "markdown",
      "metadata": {
        "id": "w43uoHan-2tG"
      },
      "source": [
        "## Linear, ReLU, and Sequential Classes"
      ]
    },
    {
      "cell_type": "code",
      "source": [
        "# Generate attributes to the parameters using the below class\n",
        "\"\"\"\n",
        "(np.ndarray): This indicates that the new class ´np_tensor´ inherits from the ´np.ndarray´ class.\n",
        "´np.ndarray´ is the core class in the NumPy library representing multi-dimensional arrays.\n",
        "By inheriting from ´np.darray´, ´np_tensor´ gets all the functionality of NumPy arrays.\n",
        "\"\"\"\n",
        "\n",
        "class np_tensor(np.ndarray): pass"
      ],
      "metadata": {
        "id": "Mj_Mc0tuc774"
      },
      "execution_count": null,
      "outputs": []
    },
    {
      "cell_type": "markdown",
      "metadata": {
        "id": "KrJOyHnj-2tG"
      },
      "source": [
        "###  Linear Class\n",
        "\n",
        "$$z^1 = W^1 X + b^1$$\n",
        "\n"
      ]
    },
    {
      "cell_type": "code",
      "source": [
        "class Linear():\n",
        "    def __init__(self, input_size, output_size):\n",
        "        '''\n",
        "        Init parameters using Kaiming He initialization\n",
        "\n",
        "        Parameters:\n",
        "          self: instance of the class.\n",
        "          input_size: number of input features (from previous layer)\n",
        "          output_size: number of output features (to the next layer)\n",
        "        Atributes:\n",
        "          self.W (np.ndarray): Weight matrix of shape (output_size, input_size)\n",
        "          self.b (np.ndarray): Bias vector of shape (output_size, 1)\n",
        "        '''\n",
        "\n",
        "      # Initialize the weights using Kaiming He initialization\n",
        "        self.W = (np.random.randn(output_size, input_size) / np.sqrt(input_size/2)).view(np_tensor) # Scale weights by 1/sqrt(input_size / 2) for better gradient flow in deep networks\n",
        "      # Initialize the biases to zero\n",
        "        self.b = (np.zeros((output_size, 1))).view(np_tensor)\n",
        "\n",
        "\n",
        "    def __call__(self, X): # lineal class forward\n",
        "        '''\n",
        "        Performs the forward pass of the linear layer.\n",
        "\n",
        "        Parameters:\n",
        "          X (np.ndarray): Input data of shape, (input_size, batch_size), where batch_size is the number of samples.\n",
        "        Returns:\n",
        "          Z (np.ndarray): Output of the linear transformation (output size, batch_size) - computed as Z= W @ X + b).\n",
        "\n",
        "        '''\n",
        "        # Forward pass\n",
        "        Z = self.W @ X + self.b\n",
        "        return Z\n",
        "\n",
        "\n",
        "    def backward(self, X, Z):\n",
        "        '''\n",
        "        Performs the backward pass of the linear layer.\n",
        "\n",
        "        Parameters:\n",
        "          X (np.ndarray): Input data from the forward pass, (input_size, batch_size).\n",
        "          Z (np.ndarray): Output from the forward pass (contains the gradients as `Z.grad`).\n",
        "        '''\n",
        "        # Compute the gradient of the input (backpropagate through the weights)\n",
        "        X.grad = self.W.T @ Z.grad\n",
        "\n",
        "        # Compute the gradient of the weights\n",
        "        self.W.grad = Z.grad @ X.T\n",
        "\n",
        "        # Compute the gradient of the biases (sum the gradients over all samples)\n",
        "        self.b.grad = np.sum(Z.grad, axis=1, keepdims=True)"
      ],
      "metadata": {
        "id": "SvO2xqj-eNmp"
      },
      "execution_count": null,
      "outputs": []
    },
    {
      "cell_type": "markdown",
      "metadata": {
        "id": "QzF9IdHE-2tG"
      },
      "source": [
        "### ReLU Class\n",
        "\n",
        "In the following section, we apply the ReLU activation function to the input data (input data coming from the activation function of the previous layer).\n",
        "\n",
        "$$a^1 = ReLU(z^1) $$"
      ]
    },
    {
      "cell_type": "code",
      "source": [
        "class ReLU():\n",
        "    def __call__(self, Z):\n",
        "        '''\n",
        "        Forward pass of the ReLU activation function\n",
        "\n",
        "        Parameters:\n",
        "          Z (np.ndarray): Input to the activation function (e.g., output from a linear layer)\n",
        "        Returns:\n",
        "          np.ndarray: Element-wise maximum between 0 and Z\n",
        "        '''\n",
        "\n",
        "        # Apply ReLU: If Z > 0, keep Z; otherwise, set to 0\n",
        "        return np.maximum(0, Z)\n",
        "\n",
        "    def backward(self, Z, A):\n",
        "        '''\n",
        "        Backward pass of the ReLU activation function.\n",
        "\n",
        "        Parameters:\n",
        "          Z (np.ndarray): Input to the ReLU during the forward pass.\n",
        "          A (np.ndarray): Output of the ReLU during the forward pass, containing gradients from the next layer.\n",
        "        '''\n",
        "\n",
        "        # Copy the gradient from the next layer\n",
        "        Z.grad = A.grad.copy()\n",
        "\n",
        "        # Set gradients to zero for elements where Z <= 0\n",
        "        Z.grad[Z <= 0] = 0\n"
      ],
      "metadata": {
        "id": "3fT-bdUfeGai"
      },
      "execution_count": null,
      "outputs": []
    },
    {
      "cell_type": "markdown",
      "metadata": {
        "id": "JLYz9w7t-2tG"
      },
      "source": [
        "### Sequential Class"
      ]
    },
    {
      "cell_type": "code",
      "source": [
        "class Sequential_layers():\n",
        "    def __init__(self, layers):\n",
        "        '''\n",
        "        Initializes the Sequential layers object with a list of layers\n",
        "\n",
        "        Parameters:\n",
        "          layers (list): A list of layer objects.\n",
        "        Atributes:\n",
        "          self.layers (list)\n",
        "          self.x (np.ndarray)\n",
        "          self.outputs (dict)\n",
        "        '''\n",
        "\n",
        "        # Store the list of layers\n",
        "        self.layers = layers\n",
        "        # Placeholder Input/output during forward pass\n",
        "        self.x = None\n",
        "        # Dictionary to save the outputs\n",
        "        self.outputs = {}\n",
        "\n",
        "\n",
        "    def __call__(self, X):\n",
        "        '''\n",
        "        Performs the forward pass through all layers sequentially\n",
        "\n",
        "        Parameters:\n",
        "          X (np.ndarray): The input to the network, (input_size, batch_size)\n",
        "        Returns:\n",
        "          np.ndarray: The final output of the network\n",
        "        '''\n",
        "\n",
        "        # Save the input to the first layer\n",
        "        self.x = X\n",
        "        # Store the initial input as '10'\n",
        "        self.outputs['l0'] = self.x\n",
        "\n",
        "        # Pass the input through each layer in sequence\n",
        "        for i, layer in enumerate(self.layers, 1):\n",
        "            self.x = layer(self.x)\n",
        "            self.outputs['l'+str(i)]=self.x\n",
        "        return self.x\n",
        "\n",
        "\n",
        "    def backward(self):\n",
        "      '''\n",
        "      Backward pass through all layers in reverse order\n",
        "      '''\n",
        "      # Iterate through layers in reverse order for backpropagation\n",
        "      for i in reversed(range(len(self.layers))):\n",
        "      # Pass the current and next layer outputs to the layer's backward method\n",
        "          self.layers[i].backward(self.outputs['l'+str(i)], self.outputs['l'+str(i+1)])\n",
        "\n",
        "    def update(self, learning_rate = 1e-3):\n",
        "      '''\n",
        "      Updates the weights and biases of all layers\n",
        "      Parameters:\n",
        "        learning_rate (float): The learning rate used for weight updates.\n",
        "      '''\n",
        "      for layer in self.layers:\n",
        "        # Skip ReLu layers since they have no parameters to update\n",
        "          if isinstance(layer, ReLU): continue\n",
        "          # Update using their gradients\n",
        "          layer.W = layer.W - learning_rate * layer.W.grad\n",
        "          layer.b = layer.b - learning_rate * layer.b.grad\n",
        "\n",
        "    def predict(self, X):\n",
        "      '''\n",
        "      Forward pass and returns the predicted class for each sample\n",
        "      Parameters:\n",
        "        X (np.ndarray): The input to the network, (input_size, batch_size)\n",
        "      Returns:\n",
        "        np.ndarray: The predicted class for each sample\n",
        "      '''\n",
        "      # Return the class with the highest score\n",
        "      return np.argmax(self.__call__(X))"
      ],
      "metadata": {
        "id": "z7Pv_7_wc833"
      },
      "execution_count": null,
      "outputs": []
    },
    {
      "cell_type": "markdown",
      "metadata": {
        "id": "BJsZxT0e-2tG"
      },
      "source": [
        "### Cost Function"
      ]
    },
    {
      "cell_type": "code",
      "source": [
        "def softmaxXEntropy(x, y):\n",
        "    '''\n",
        "    Computes the softmax activation, cross-entropy loss, and the gradient of the loss\n",
        "\n",
        "    Parameters:\n",
        "      x (np.ndarray): The logits (raw scores) for each class, (num_classes, batch_size)\n",
        "      y (np.ndarray): The `y` labels, (batch_size,)\n",
        "\n",
        "    Returns:\n",
        "      preds (np.ndarray): The predicted probabilities for each class, (num_classes, batch_size)\n",
        "      cost (float): The average cross-entropy loss over the batch\n",
        "    '''\n",
        "\n",
        "    # Get the batch size (number of samples in the batch)\n",
        "    batch_size = x.shape[1]\n",
        "\n",
        "    # Compute the softmax probabilities\n",
        "\n",
        "    # Exponentiate the logits for each class\n",
        "    exp_scores = np.exp(x)\n",
        "    # Normalize to get probabilities per sample\n",
        "    probs = exp_scores / exp_scores.sum(axis=0)\n",
        "    # Save the probabilities for predictions\n",
        "    preds = probs.copy()\n",
        "\n",
        "    # Convert `y` labels to integers\n",
        "    y = y.astype(int)\n",
        "\n",
        "    # Handle cases where y might have out-of-bounds indices (e.g., due to data corruption)\n",
        "    valid_indices = np.clip(y.squeeze(), 0, probs.shape[0] - 1)  # Ensure indices are within [0, num_classes-1]\n",
        "\n",
        "    # Extract the predicted probabilities for the correct classes\n",
        "    y_hat = probs[valid_indices, np.arange(batch_size)]\n",
        "\n",
        "    # Compute the cross-entropy loss\n",
        "    cost = np.sum(-np.log(y_hat)) / batch_size\n",
        "\n",
        "    # Backpropagation: Compute the gradient of the loss w.r.t. logits\n",
        "    probs[valid_indices, np.arange(batch_size)] -= 1\n",
        "    # Save the gradient of the loss w.r.t. the input `x`\n",
        "    x.grad = probs.copy()\n",
        "\n",
        "    return preds, cost"
      ],
      "metadata": {
        "id": "FRmLtOENc9eE"
      },
      "execution_count": null,
      "outputs": []
    },
    {
      "cell_type": "markdown",
      "metadata": {
        "id": "sBVDxdPl-2tH"
      },
      "source": [
        "### Training loop"
      ]
    },
    {
      "cell_type": "code",
      "source": [
        "def train(model, epochs, mb_size=128, learning_rate = 1e-3):\n",
        "  '''\n",
        "  Trains the model over a specific number of epochs.\n",
        "\n",
        "  Parameters:\n",
        "    model: The neural network model to be trained (e.g., Sequential_layers instance).\n",
        "    epochs (int): The number of times the entire training dataset is processed.\n",
        "    mb_size (int): The size of each mini-batch. Default is 128.\n",
        "    learning_rate (float): The step size for updating model parameters. Default is 1e-3.\n",
        "  '''\n",
        "  # Loop through the number of epochs\n",
        "  for epoch in range(epochs):\n",
        "    # Iterate through the training data in mini-batches\n",
        "    for i, (x, y) in enumerate(create_minibatches(mb_size, x_train, y_train)):\n",
        "      # Forward pass through the model\n",
        "      # Transpose `x` to match the expected shape\n",
        "      scores = model(x.T.view(np_tensor))\n",
        "\n",
        "      # Softmax and cross-entropy loss\n",
        "      _, cost = softmaxXEntropy(scores, y)\n",
        "\n",
        "      # Backward pass to compute gradients\n",
        "      model.backward()\n",
        "\n",
        "      # Update parameters using the computed gradients\n",
        "      model.update(learning_rate)\n",
        "\n",
        "      print(f'Cost: {cost}, Accuracy: {accuracy(x_val, y_val, mb_size)}')"
      ],
      "metadata": {
        "id": "mgRoG5Jdc-8A"
      },
      "execution_count": null,
      "outputs": []
    },
    {
      "cell_type": "markdown",
      "metadata": {
        "id": "kUZPs8B_-2tH"
      },
      "source": [
        "### Create and train the model"
      ]
    },
    {
      "cell_type": "code",
      "execution_count": null,
      "metadata": {
        "id": "5croE3-P-2tH"
      },
      "outputs": [],
      "source": [
        "def accuracy(x, y, mb_size):\n",
        "  '''\n",
        "  Accuracy of the model\n",
        "\n",
        "  Parameters:\n",
        "    x (np.ndarray): The input to the network, (input_size, batch_size)\n",
        "    y (np.ndarray): The `y` labels, (batch_size,)\n",
        "    mb_size (int): The size of each mini-batch.\n",
        "\n",
        "  Returns:\n",
        "    float: The accuracy of the model on the given data.\n",
        "  '''\n",
        "  # Counter of the correct predictions\n",
        "  correct = 0\n",
        "  # Counter of total number of samples\n",
        "  total = 0\n",
        "\n",
        "\n",
        "  # Iterate over the dataset in mini-batches\n",
        "  for i, (x, y) in enumerate(create_minibatches(mb_size, x, y)):\n",
        "      # Forward pass to get the predictions\n",
        "      # Transpose to match model expectations\n",
        "      pred = model(x.T.view(np_tensor))\n",
        "\n",
        "      # Compare the predicted class to the true class\n",
        "      correct += np.sum(np.argmax(pred, axis=0) == y.squeeze())\n",
        "\n",
        "      # Update the total number of samples processed\n",
        "      total += pred.shape[1]\n",
        "  return correct/total"
      ]
    },
    {
      "cell_type": "code",
      "source": [
        "# Model initialization\n",
        "model = Sequential_layers([\n",
        "    Linear(784, 200), # 784 features, 200 neurons\n",
        "    ReLU(),           # Activation function\n",
        "    Linear(200, 200), # Hidden layer: 200 neurons to another 200 neurons\n",
        "    ReLU(),           # Activation function\n",
        "    Linear(200, 24)   # Output layer: 200 neurons, 24 classes\n",
        "])\n",
        "\n",
        "# Training\n",
        "mb_size = 512         # mini-batch size\n",
        "learning_rate = 1e-4  # learning rate for gradient descent\n",
        "epochs = 100          # number of training epochs"
      ],
      "metadata": {
        "id": "DWV6l_fmepBF"
      },
      "execution_count": null,
      "outputs": []
    },
    {
      "cell_type": "code",
      "source": [
        "train(model, epochs, mb_size, learning_rate)"
      ],
      "metadata": {
        "colab": {
          "base_uri": "https://localhost:8080/"
        },
        "id": "rGn6KaiPetSA",
        "outputId": "ca9adcba-d3f4-4fc2-a313-adc8797d7a2d"
      },
      "execution_count": null,
      "outputs": [
        {
          "output_type": "stream",
          "name": "stdout",
          "text": [
            "costo: 1.0246480460507297, accuracy: 0.5856107083100948\n",
            "costo: 0.5518389004451377, accuracy: 0.67930842163971\n",
            "costo: 0.33107546475389316, accuracy: 0.690462911321807\n",
            "costo: 0.23330091814324977, accuracy: 0.7334076965978806\n",
            "costo: 0.1444940758512839, accuracy: 0.728388176240937\n",
            "costo: 0.10421182070864168, accuracy: 0.7361963190184049\n",
            "costo: 0.0852363771832679, accuracy: 0.7378694924707194\n",
            "costo: 0.05739835239394415, accuracy: 0.7479085331846068\n",
            "costo: 0.05210216210686462, accuracy: 0.7484662576687117\n",
            "costo: 0.04458057856709517, accuracy: 0.7495817066369214\n",
            "costo: 0.036949381568097114, accuracy: 0.7479085331846068\n",
            "costo: 0.0346764929693184, accuracy: 0.7534857780256553\n",
            "costo: 0.03228974724957204, accuracy: 0.7495817066369214\n",
            "costo: 0.025031722454980265, accuracy: 0.7562744004461796\n",
            "costo: 0.024401330627766973, accuracy: 0.7596207473508088\n",
            "costo: 0.024374375079505215, accuracy: 0.7590630228667038\n",
            "costo: 0.016807523624833207, accuracy: 0.762409369771333\n",
            "costo: 0.01994778761426949, accuracy: 0.7596207473508088\n",
            "costo: 0.014112073801817957, accuracy: 0.7607361963190185\n",
            "costo: 0.015040572758314313, accuracy: 0.7612939208031233\n",
            "costo: 0.013824003147813213, accuracy: 0.7635248187395427\n",
            "costo: 0.012846554973191735, accuracy: 0.7646402677077524\n",
            "costo: 0.01342079623989256, accuracy: 0.7646402677077524\n",
            "costo: 0.01226783961394373, accuracy: 0.7646402677077524\n",
            "costo: 0.009785697836784166, accuracy: 0.7663134411600669\n",
            "costo: 0.011336569479691304, accuracy: 0.7668711656441718\n",
            "costo: 0.010124720271333489, accuracy: 0.769659788064696\n",
            "costo: 0.009421876706751858, accuracy: 0.7707752370329057\n",
            "costo: 0.00861117502480961, accuracy: 0.77356385945343\n",
            "costo: 0.010277468325767777, accuracy: 0.7707752370329057\n",
            "costo: 0.00889925015108532, accuracy: 0.7718906860011154\n",
            "costo: 0.008202458700015205, accuracy: 0.7730061349693251\n",
            "costo: 0.006571059543606815, accuracy: 0.77356385945343\n",
            "costo: 0.005925854053977401, accuracy: 0.7741215839375348\n",
            "costo: 0.0073598933832723255, accuracy: 0.7746793084216397\n",
            "costo: 0.006140375743189833, accuracy: 0.7741215839375348\n",
            "costo: 0.007414436904744308, accuracy: 0.7752370329057445\n",
            "costo: 0.006939403044435342, accuracy: 0.7741215839375348\n",
            "costo: 0.00551713889202433, accuracy: 0.7741215839375348\n",
            "costo: 0.005977363419658467, accuracy: 0.7763524818739542\n",
            "costo: 0.0066598900315216255, accuracy: 0.7763524818739542\n",
            "costo: 0.006092989094291725, accuracy: 0.7769102063580591\n",
            "costo: 0.005250085129243064, accuracy: 0.7780256553262688\n",
            "costo: 0.004599679046262808, accuracy: 0.7774679308421639\n",
            "costo: 0.005408608418744377, accuracy: 0.7774679308421639\n",
            "costo: 0.005001633714766595, accuracy: 0.7769102063580591\n",
            "costo: 0.00461507914526746, accuracy: 0.7780256553262688\n",
            "costo: 0.0048602698422672615, accuracy: 0.7774679308421639\n",
            "costo: 0.004141021570629429, accuracy: 0.7785833798103736\n",
            "costo: 0.004470070259234751, accuracy: 0.7780256553262688\n",
            "costo: 0.0045812159373715775, accuracy: 0.7785833798103736\n",
            "costo: 0.004096204493274222, accuracy: 0.7774679308421639\n",
            "costo: 0.004079911125532011, accuracy: 0.7774679308421639\n",
            "costo: 0.004331042588520018, accuracy: 0.7780256553262688\n",
            "costo: 0.0035538837369182836, accuracy: 0.7785833798103736\n",
            "costo: 0.0035429374039553153, accuracy: 0.7785833798103736\n",
            "costo: 0.0030065153996452513, accuracy: 0.7791411042944786\n",
            "costo: 0.003387846176265738, accuracy: 0.7785833798103736\n",
            "costo: 0.0031331867490745394, accuracy: 0.7791411042944786\n",
            "costo: 0.0030069831333366715, accuracy: 0.7791411042944786\n",
            "costo: 0.0036094408207256136, accuracy: 0.7791411042944786\n",
            "costo: 0.002699337346243813, accuracy: 0.7802565532626883\n",
            "costo: 0.0033875814593276377, accuracy: 0.7796988287785834\n",
            "costo: 0.0030297255803369257, accuracy: 0.7791411042944786\n",
            "costo: 0.0030657610968321852, accuracy: 0.7796988287785834\n",
            "costo: 0.0031727281219515653, accuracy: 0.7796988287785834\n",
            "costo: 0.0033921522898118428, accuracy: 0.7796988287785834\n",
            "costo: 0.002982954904304244, accuracy: 0.7796988287785834\n",
            "costo: 0.0029033457979761247, accuracy: 0.7796988287785834\n",
            "costo: 0.0028843856220215533, accuracy: 0.7796988287785834\n",
            "costo: 0.0027606269759078363, accuracy: 0.7796988287785834\n",
            "costo: 0.0025381935286933007, accuracy: 0.7791411042944786\n",
            "costo: 0.003542997867576872, accuracy: 0.7796988287785834\n",
            "costo: 0.002751120761536933, accuracy: 0.7796988287785834\n",
            "costo: 0.0025536259281179717, accuracy: 0.7796988287785834\n",
            "costo: 0.0028817576919606155, accuracy: 0.7796988287785834\n",
            "costo: 0.0024783904859458344, accuracy: 0.7796988287785834\n",
            "costo: 0.002393339938556203, accuracy: 0.7791411042944786\n",
            "costo: 0.0022020585047079944, accuracy: 0.7791411042944786\n",
            "costo: 0.0023803769606005457, accuracy: 0.7791411042944786\n",
            "costo: 0.0024991577120097707, accuracy: 0.7791411042944786\n",
            "costo: 0.0024605711379397277, accuracy: 0.7791411042944786\n",
            "costo: 0.00221312585158726, accuracy: 0.7796988287785834\n",
            "costo: 0.0020202660252290586, accuracy: 0.7796988287785834\n",
            "costo: 0.0021244497662940226, accuracy: 0.7796988287785834\n",
            "costo: 0.002392144329859596, accuracy: 0.7796988287785834\n",
            "costo: 0.0023473212230145433, accuracy: 0.7796988287785834\n",
            "costo: 0.0018626510973902687, accuracy: 0.7796988287785834\n",
            "costo: 0.002245998288701683, accuracy: 0.7796988287785834\n",
            "costo: 0.0021751742480829103, accuracy: 0.7791411042944786\n",
            "costo: 0.001989136920486124, accuracy: 0.7796988287785834\n",
            "costo: 0.0017281860785023613, accuracy: 0.7791411042944786\n",
            "costo: 0.0021416214101442075, accuracy: 0.7796988287785834\n",
            "costo: 0.0024142780166510253, accuracy: 0.7791411042944786\n",
            "costo: 0.0019216697221196895, accuracy: 0.7791411042944786\n",
            "costo: 0.0021672894396132882, accuracy: 0.7796988287785834\n",
            "costo: 0.0015379344021094696, accuracy: 0.7796988287785834\n",
            "costo: 0.001711404787529414, accuracy: 0.7802565532626883\n",
            "costo: 0.001765181766401618, accuracy: 0.7796988287785834\n",
            "costo: 0.0016101151356773947, accuracy: 0.7796988287785834\n"
          ]
        }
      ]
    },
    {
      "cell_type": "markdown",
      "metadata": {
        "id": "jQduHndi-2tH"
      },
      "source": [
        "### Test your model on Random data from your test set"
      ]
    },
    {
      "cell_type": "code",
      "execution_count": null,
      "metadata": {
        "id": "wGeFMsJ_-2tH",
        "colab": {
          "base_uri": "https://localhost:8080/",
          "height": 439
        },
        "outputId": "792a9065-aca7-4fbb-b98b-5c80784ede2a"
      },
      "outputs": [
        {
          "output_type": "display_data",
          "data": {
            "text/plain": [
              "<Figure size 500x500 with 1 Axes>"
            ],
            "image/png": "[encoded data removed]"
          },
          "metadata": {}
        },
        {
          "output_type": "stream",
          "name": "stdout",
          "text": [
            "Predicted sign: u | Actual sign: v\n"
          ]
        }
      ],
      "source": [
        "# Select a random index from the test set\n",
        "idx = np.random.randint(len(y_test))\n",
        "\n",
        "# Plot the image\n",
        "# Reshape the test sample from a 1D array (784,) to a 2D grid (28x28) for visualization.\n",
        "plot_number(x_test[idx].reshape(28,28))\n",
        "\n",
        "# Predict the class for the selected test image\n",
        "# Reshape the image to a column vector (784, 1) to match the model's input shape.\n",
        "pred = model.predict(x_test[idx].reshape(-1, 1))\n",
        "\n",
        "# Print the result\n",
        "print(f'Predicted sign: {alphabet[pred]} | Actual sign: {alphabet[y_test[idx]]}')"
      ]
    }
  ],
  "metadata": {
    "kernelspec": {
      "display_name": "Python 3 (ipykernel)",
      "language": "python",
      "name": "python3"
    },
    "language_info": {
      "codemirror_mode": {
        "name": "ipython",
        "version": 3
      },
      "file_extension": ".py",
      "mimetype": "text/x-python",
      "name": "python",
      "nbconvert_exporter": "python",
      "pygments_lexer": "ipython3",
      "version": "3.9.0"
    },
    "toc": {
      "base_numbering": 1,
      "nav_menu": {},
      "number_sections": true,
      "sideBar": true,
      "skip_h1_title": false,
      "title_cell": "Table of Contents",
      "title_sidebar": "Contents",
      "toc_cell": false,
      "toc_position": {},
      "toc_section_display": true,
      "toc_window_display": false
    },
    "varInspector": {
      "cols": {
        "lenName": 16,
        "lenType": 16,
        "lenVar": 40
      },
      "kernels_config": {
        "python": {
          "delete_cmd_postfix": "",
          "delete_cmd_prefix": "del ",
          "library": "var_list.py",
          "varRefreshCmd": "print(var_dic_list())"
        },
        "r": {
          "delete_cmd_postfix": ") ",
          "delete_cmd_prefix": "rm(",
          "library": "var_list.r",
          "varRefreshCmd": "cat(var_dic_list()) "
        }
      },
      "types_to_exclude": [
        "module",
        "function",
        "builtin_function_or_method",
        "instance",
        "_Feature"
      ],
      "window_display": false
    },
    "colab": {
      "provenance": [],
      "include_colab_link": true
    }
  },
  "nbformat": 4,
  "nbformat_minor": 0
}